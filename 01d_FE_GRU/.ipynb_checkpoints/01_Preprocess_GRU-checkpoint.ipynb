{
 "cells": [
  {
   "cell_type": "code",
   "execution_count": 2,
   "id": "2e8e4492",
   "metadata": {},
   "outputs": [],
   "source": [
    "import os\n",
    "\n",
    "os.environ[\"CUDA_VISIBLE_DEVICES\"]=\"0\""
   ]
  },
  {
   "cell_type": "code",
   "execution_count": 3,
   "id": "a7328b2e",
   "metadata": {},
   "outputs": [],
   "source": [
    "import cudf\n",
    "import glob\n",
    "import gc\n",
    "import os"
   ]
  },
  {
   "cell_type": "code",
   "execution_count": 4,
   "id": "27f00c04",
   "metadata": {},
   "outputs": [
    {
     "name": "stdout",
     "output_type": "stream",
     "text": [
      "356748\n"
     ]
    }
   ],
   "source": [
    "import pickle\n",
    "\n",
    "igfold = 1\n",
    "sessions = pickle.load(open('./data/sessions_eval.pickle', 'rb'))\n",
    "if igfold == 0:\n",
    "    sess_eval = sessions[0]+sessions[1]\n",
    "elif igfold == 1:\n",
    "    sess_eval = sessions[2]+sessions[3]\n",
    "elif igfold == 2:\n",
    "    sess_eval = sessions[4]+sessions[5]\n",
    "elif igfold == 3:\n",
    "    sess_eval = sessions[6]+sessions[7]\n",
    "elif igfold == 4:\n",
    "    sess_eval = sessions[8]+sessions[9]\n",
    "print(len(sess_eval))"
   ]
  },
  {
   "cell_type": "code",
   "execution_count": 5,
   "id": "2a22a199",
   "metadata": {},
   "outputs": [],
   "source": [
    "df_type = cudf.DataFrame({\n",
    "    'type': ['clicks', 'carts', 'orders'],\n",
    "    'type_': [0, 1, 2]\n",
    "})\n",
    "df_type['type_'] = df_type['type_']+2"
   ]
  },
  {
   "cell_type": "code",
   "execution_count": 6,
   "id": "7197d091",
   "metadata": {},
   "outputs": [
    {
     "data": {
      "text/plain": [
       "0"
      ]
     },
     "execution_count": 6,
     "metadata": {},
     "output_type": "execute_result"
    }
   ],
   "source": [
    "#os.system('rm -rf ./data_folds/fold_' + str(igfold) + '/data_gru/train/')\n",
    "os.system('mkdir -p ./data_folds/fold_' + str(igfold) + '/data_gru/train/clicks/')\n",
    "os.system('mkdir -p ./data_folds/fold_' + str(igfold) + '/data_gru/train/carts/')\n",
    "os.system('mkdir -p ./data_folds/fold_' + str(igfold) + '/data_gru/train/orders/')\n",
    "os.system('mkdir -p ./data_folds/fold_' + str(igfold) + '/data_gru/valid/')\n",
    "os.system('mkdir -p ./data_folds/fold_' + str(igfold) + '/data_gru/test/')"
   ]
  },
  {
   "cell_type": "code",
   "execution_count": 7,
   "id": "07881970",
   "metadata": {},
   "outputs": [
    {
     "name": "stderr",
     "output_type": "stream",
     "text": [
      " 99%|█████████▉| 130/131 [15:07<00:06,  6.86s/it]"
     ]
    },
    {
     "name": "stdout",
     "output_type": "stream",
     "text": [
      "./data/xgb_train_x.parquet\n"
     ]
    },
    {
     "name": "stderr",
     "output_type": "stream",
     "text": [
      "100%|██████████| 131/131 [15:13<00:00,  6.97s/it]\n"
     ]
    }
   ],
   "source": [
    "from tqdm import tqdm\n",
    "\n",
    "files_aid = sorted(glob.glob('../../data/' + '/train/interim/*.parquet')) + glob.glob('../../data/test.parquet') + glob.glob('./data/xgb_train_x.parquet')\n",
    "for ifile in tqdm(range(len(files_aid))):\n",
    "    out = []\n",
    "    file = files_aid[ifile]\n",
    "    df_tmp = cudf.read_parquet(file)\n",
    "    if 'xgb_train_x.parquet' in file:\n",
    "        print(file)\n",
    "        df_tmp = df_tmp[df_tmp['session'].isin(sess_eval)]\n",
    "    else:\n",
    "        df_tmp = df_tmp[~(df_tmp['session'].isin(sess_eval))]\n",
    "    out.append(df_tmp)\n",
    "    df_aid = cudf.concat(out)\n",
    "    del out\n",
    "    gc.collect()\n",
    "    df_aid['aid'] = df_aid['aid']+2\n",
    "    df_aid = df_aid.merge(\n",
    "        df_type,\n",
    "        how='left',\n",
    "        on='type'\n",
    "    )\n",
    "    df_aid.drop(['type'], axis=1, inplace=True)\n",
    "    df_aid = df_aid.rename(columns={'type_': 'type'})\n",
    "    out_clicks = []\n",
    "    out_carts = []\n",
    "    out_orders = []\n",
    "    for ij in range(40):\n",
    "        df_aid = df_aid.sort_values(['session', 'ts'], ascending=[True, False])\n",
    "        df_aid['dummy'] = 1\n",
    "        df_aid['rank'] = df_aid.groupby(['session']).dummy.cumsum()\n",
    "        df_aid.drop(['dummy'], axis=1, inplace=True)\n",
    "        df_valid_y = df_aid[df_aid['rank']==1]\n",
    "        df_valid_x = df_aid[df_aid['rank']!=1]\n",
    "\n",
    "        df_valid_x = df_valid_x.sort_values(['session', 'ts'])\n",
    "        df_valid_agg = df_valid_x[\n",
    "            df_valid_x['rank']<21\n",
    "        ][['session', 'aid', 'type', 'rank']].groupby(['session']).agg(list)\n",
    "        df_valid_agg = df_valid_agg.reset_index()\n",
    "        df_valid_y = df_valid_y.rename(columns={\n",
    "            'aid': 'target',\n",
    "            'type': 'target_type'\n",
    "        })\n",
    "        df_valid_agg = df_valid_agg.merge(\n",
    "            df_valid_y[['session', 'target', 'target_type']],\n",
    "            how='left',\n",
    "            on=['session']\n",
    "        )\n",
    "        df_valid_agg['session_len'] = df_valid_agg.aid.list.len()\n",
    "        if df_valid_agg.shape[0]>0:\n",
    "            if df_valid_agg[df_valid_agg['target_type']==2].shape[0]>0:\n",
    "                out_clicks.append(df_valid_agg[df_valid_agg['target_type']==2])\n",
    "            if df_valid_agg[df_valid_agg['target_type']==3].shape[0]>0:\n",
    "                out_carts.append(df_valid_agg[df_valid_agg['target_type']==3])\n",
    "            if df_valid_agg[df_valid_agg['target_type']==4].shape[0]>0:\n",
    "                out_orders.append(df_valid_agg[df_valid_agg['target_type']==4])\n",
    "        else:\n",
    "            break\n",
    "        df_aid = df_valid_x\n",
    "    df_clicks = cudf.concat(out_clicks)\n",
    "    df_clicks.to_parquet(\n",
    "        './data_folds/fold_' + str(igfold) + '/data_gru/train/clicks/chunk_' + str(ifile) + '_' + str(0) + '.parquet'\n",
    "    )\n",
    "    df_carts = cudf.concat(out_carts)\n",
    "    df_carts.to_parquet(\n",
    "        './data_folds/fold_' + str(igfold) + '/data_gru/train/carts/chunk_' + str(ifile) + '_' + str(0) + '.parquet'\n",
    "    )\n",
    "    df_orders = cudf.concat(out_orders)\n",
    "    df_orders.to_parquet(\n",
    "        './data_folds/fold_' + str(igfold) + '/data_gru/train/orders/chunk_' + str(ifile) + '_' + str(0) + '.parquet'\n",
    "    )"
   ]
  },
  {
   "cell_type": "code",
   "execution_count": 8,
   "id": "18c3aa88",
   "metadata": {},
   "outputs": [],
   "source": [
    "if True:\n",
    "    files = glob.glob('../../data/test.parquet')\n",
    "    out = []\n",
    "    file = files[0]\n",
    "    df_tmp = cudf.read_parquet(file)\n",
    "    if 'xgb_train_x.parquet' in file:\n",
    "        print(file)\n",
    "        df_tmp = df_tmp[df_tmp['session'].isin(sess_eval)]\n",
    "    else:\n",
    "        df_tmp = df_tmp[~(df_tmp['session'].isin(sess_eval))]\n",
    "    out.append(df_tmp)\n",
    "    df_aid = cudf.concat(out)\n",
    "    del out\n",
    "    gc.collect()\n",
    "    df_aid['aid'] = df_aid['aid']+2\n",
    "    df_aid = df_aid.merge(\n",
    "        df_type,\n",
    "        how='left',\n",
    "        on='type'\n",
    "    )\n",
    "    df_aid.drop(['type'], axis=1, inplace=True)\n",
    "    df_aid = df_aid.rename(columns={'type_': 'type'})\n",
    "    out_clicks = []\n",
    "    out_carts = []\n",
    "    out_orders = []\n",
    "    for ij in range(1):\n",
    "        df_aid = df_aid.sort_values(['session', 'ts'], ascending=[True, False])\n",
    "        df_aid['dummy'] = 1\n",
    "        df_aid['rank'] = df_aid.groupby(['session']).dummy.cumsum()\n",
    "        df_aid.drop(['dummy'], axis=1, inplace=True)\n",
    "        df_aid['rank'] = df_aid['rank']+1\n",
    "        df_valid_x = df_aid\n",
    "        df_valid_x = df_valid_x.sort_values(['session', 'ts'])\n",
    "        df_valid_agg = df_valid_x[\n",
    "            df_valid_x['rank']<21\n",
    "        ][['session', 'aid', 'type', 'rank']].groupby(['session']).agg(list)\n",
    "        df_valid_agg = df_valid_agg.reset_index()\n",
    "        df_valid_agg['session_len'] = df_valid_agg.aid.list.len()\n",
    "\n",
    "    df_valid_agg.to_parquet(\n",
    "        './data_folds/fold_' + str(igfold) + '/data_gru/test/chunk_' + str(0) + '_' + str(0) + '.parquet'\n",
    "    )"
   ]
  },
  {
   "cell_type": "code",
   "execution_count": 9,
   "id": "38aed5cf",
   "metadata": {},
   "outputs": [
    {
     "name": "stdout",
     "output_type": "stream",
     "text": [
      "./data/xgb_train_x.parquet\n"
     ]
    }
   ],
   "source": [
    "if True:\n",
    "    files = glob.glob('./data/xgb_train_x.parquet')\n",
    "    out = []\n",
    "    file = files[0]\n",
    "    df_tmp = cudf.read_parquet(file)\n",
    "    if 'xgb_train_x.parquet' in file:\n",
    "        print(file)\n",
    "        df_tmp = df_tmp[df_tmp['session'].isin(sess_eval)]\n",
    "    else:\n",
    "        df_tmp = df_tmp[~(df_tmp['session'].isin(sess_eval))]\n",
    "    out.append(df_tmp)\n",
    "    df_aid = cudf.concat(out)\n",
    "    del out\n",
    "    gc.collect()\n",
    "    df_aid['aid'] = df_aid['aid']+2\n",
    "    df_aid = df_aid.merge(\n",
    "        df_type,\n",
    "        how='left',\n",
    "        on='type'\n",
    "    )\n",
    "    df_aid.drop(['type'], axis=1, inplace=True)\n",
    "    df_aid = df_aid.rename(columns={'type_': 'type'})\n",
    "    out_clicks = []\n",
    "    out_carts = []\n",
    "    out_orders = []\n",
    "    for ij in range(1):\n",
    "        df_aid = df_aid.sort_values(['session', 'ts'], ascending=[True, False])\n",
    "        df_aid['dummy'] = 1\n",
    "        df_aid['rank'] = df_aid.groupby(['session']).dummy.cumsum()\n",
    "        df_aid.drop(['dummy'], axis=1, inplace=True)\n",
    "        df_aid['rank'] = df_aid['rank']+1\n",
    "        df_valid_x = df_aid\n",
    "        df_valid_x = df_valid_x.sort_values(['session', 'ts'])\n",
    "        df_valid_agg = df_valid_x[\n",
    "            df_valid_x['rank']<21\n",
    "        ][['session', 'aid', 'type', 'rank']].groupby(['session']).agg(list)\n",
    "        df_valid_agg = df_valid_agg.reset_index()\n",
    "        df_valid_agg['session_len'] = df_valid_agg.aid.list.len()\n",
    "\n",
    "    df_valid_agg.to_parquet(\n",
    "        './data_folds/fold_' + str(igfold) + '/data_gru/valid/chunk_' + str(0) + '_' + str(0) + '.parquet'\n",
    "    )"
   ]
  }
 ],
 "metadata": {
  "kernelspec": {
   "display_name": "Python 3 (ipykernel)",
   "language": "python",
   "name": "python3"
  },
  "language_info": {
   "codemirror_mode": {
    "name": "ipython",
    "version": 3
   },
   "file_extension": ".py",
   "mimetype": "text/x-python",
   "name": "python",
   "nbconvert_exporter": "python",
   "pygments_lexer": "ipython3",
   "version": "3.8.10"
  }
 },
 "nbformat": 4,
 "nbformat_minor": 5
}
