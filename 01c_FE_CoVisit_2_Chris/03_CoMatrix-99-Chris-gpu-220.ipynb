{
 "cells": [
  {
   "cell_type": "code",
   "execution_count": 1,
   "id": "ee3fd1aa",
   "metadata": {},
   "outputs": [
    {
     "data": {
      "text/plain": [
       "0"
      ]
     },
     "execution_count": 1,
     "metadata": {},
     "output_type": "execute_result"
    }
   ],
   "source": [
    "import os\n",
    "import numpy as np\n",
    "\n",
    "os.environ[\"CUDA_VISIBLE_DEVICES\"]=\"0\"\n",
    "igfold = 4\n",
    "os.system('mkdir -p ./data_folds/fold_' + str(igfold))"
   ]
  },
  {
   "cell_type": "code",
   "execution_count": 2,
   "id": "c6cdb6ca",
   "metadata": {},
   "outputs": [
    {
     "name": "stdout",
     "output_type": "stream",
     "text": [
      "Sat Jan 14 08:53:08 2023       \n",
      "+-----------------------------------------------------------------------------+\n",
      "| NVIDIA-SMI 450.119.04   Driver Version: 450.119.04   CUDA Version: 11.7     |\n",
      "|-------------------------------+----------------------+----------------------+\n",
      "| GPU  Name        Persistence-M| Bus-Id        Disp.A | Volatile Uncorr. ECC |\n",
      "| Fan  Temp  Perf  Pwr:Usage/Cap|         Memory-Usage | GPU-Util  Compute M. |\n",
      "|                               |                      |               MIG M. |\n",
      "|===============================+======================+======================|\n",
      "|   0  Tesla V100-SXM2...  On   | 00000000:86:00.0 Off |                    0 |\n",
      "| N/A   36C    P0    44W / 163W |      0MiB / 32510MiB |      0%      Default |\n",
      "|                               |                      |                  N/A |\n",
      "+-------------------------------+----------------------+----------------------+\n",
      "|   1  Tesla V100-SXM2...  On   | 00000000:89:00.0 Off |                    0 |\n",
      "| N/A   37C    P0    52W / 163W |   1333MiB / 32510MiB |      0%      Default |\n",
      "|                               |                      |                  N/A |\n",
      "+-------------------------------+----------------------+----------------------+\n",
      "                                                                               \n",
      "+-----------------------------------------------------------------------------+\n",
      "| Processes:                                                                  |\n",
      "|  GPU   GI   CI        PID   Type   Process name                  GPU Memory |\n",
      "|        ID   ID                                                   Usage      |\n",
      "|=============================================================================|\n",
      "+-----------------------------------------------------------------------------+\n"
     ]
    }
   ],
   "source": [
    "!nvidia-smi"
   ]
  },
  {
   "cell_type": "code",
   "execution_count": 3,
   "id": "0dd54a93",
   "metadata": {},
   "outputs": [],
   "source": [
    "import cudf\n",
    "import glob\n",
    "import gc\n",
    "\n",
    "from tqdm import tqdm"
   ]
  },
  {
   "cell_type": "code",
   "execution_count": 4,
   "id": "0c383e27",
   "metadata": {},
   "outputs": [],
   "source": [
    "lb = False\n",
    "path = '../data/'\n",
    "type_weight = {0:1, 1:6, 2:3}\n",
    "no_files = 1\n",
    "path = '../../data/'\n",
    "    \n",
    "df_type = cudf.DataFrame({\n",
    "    'type': ['clicks', 'carts', 'orders'],\n",
    "    'type_': [0, 1, 2]\n",
    "})\n",
    "\n",
    "def list_in_chunks(files, no_chunks=10):\n",
    "    out = [[] for _ in range(no_chunks)]\n",
    "    for i, file in enumerate(files):\n",
    "        out[i%no_chunks].append(file)\n",
    "    return(out)"
   ]
  },
  {
   "cell_type": "code",
   "execution_count": 5,
   "id": "191ae9ed",
   "metadata": {},
   "outputs": [
    {
     "name": "stdout",
     "output_type": "stream",
     "text": [
      "356746\n"
     ]
    }
   ],
   "source": [
    "import pickle\n",
    "\n",
    "sessions = pickle.load(open('./data/sessions_eval.pickle', 'rb'))\n",
    "if igfold == 0:\n",
    "    sess_eval = sessions[0]+sessions[1]\n",
    "elif igfold == 1:\n",
    "    sess_eval = sessions[2]+sessions[3]\n",
    "elif igfold == 2:\n",
    "    sess_eval = sessions[4]+sessions[5]\n",
    "elif igfold == 3:\n",
    "    sess_eval = sessions[6]+sessions[7]\n",
    "elif igfold == 4:\n",
    "    sess_eval = sessions[8]+sessions[9]\n",
    "print(len(sess_eval))"
   ]
  },
  {
   "cell_type": "code",
   "execution_count": 6,
   "id": "e4fc5e92",
   "metadata": {},
   "outputs": [],
   "source": [
    "# !rm -rf ./data/\n",
    "!mkdir -p ./data/"
   ]
  },
  {
   "cell_type": "code",
   "execution_count": 7,
   "id": "658f63cb",
   "metadata": {},
   "outputs": [],
   "source": [
    "files = sorted(\n",
    "    glob.glob(path + '/train/interim/*.parquet')\n",
    ")\n",
    "files_split = [glob.glob('../../data/test.parquet')] + [glob.glob('./data/xgb_train_x.parquet')] + list_in_chunks(files, no_chunks=len(files)//no_files)"
   ]
  },
  {
   "cell_type": "code",
   "execution_count": 8,
   "id": "4a9e0999",
   "metadata": {},
   "outputs": [
    {
     "data": {
      "text/plain": [
       "131"
      ]
     },
     "execution_count": 8,
     "metadata": {},
     "output_type": "execute_result"
    }
   ],
   "source": [
    "len(files_split)"
   ]
  },
  {
   "cell_type": "markdown",
   "id": "2792989c",
   "metadata": {},
   "source": [
    "### 0) Clicks->Orders"
   ]
  },
  {
   "cell_type": "code",
   "execution_count": 9,
   "id": "4949073f",
   "metadata": {},
   "outputs": [],
   "source": [
    "!rm -r /tmp/data/tmp3\n",
    "!mkdir -p /tmp/data/tmp3/split"
   ]
  },
  {
   "cell_type": "code",
   "execution_count": 10,
   "id": "720ded20",
   "metadata": {},
   "outputs": [
    {
     "name": "stderr",
     "output_type": "stream",
     "text": [
      "1it [00:02,  2.74s/it]"
     ]
    },
    {
     "name": "stdout",
     "output_type": "stream",
     "text": [
      "['./data/xgb_train_x.parquet']\n"
     ]
    },
    {
     "name": "stderr",
     "output_type": "stream",
     "text": [
      "131it [03:38,  1.67s/it]\n"
     ]
    }
   ],
   "source": [
    "out = []\n",
    "for e, file in tqdm(enumerate(files_split)):\n",
    "    df = cudf.read_parquet(file).reset_index(drop=True)\n",
    "    df = df.merge(\n",
    "        df_type,\n",
    "        how='left',\n",
    "        on='type'\n",
    "    )\n",
    "    if any([True for x in file if 'xgb_train_x.parquet' in x]):\n",
    "        print(file)\n",
    "        df = df[df['session'].isin(sess_eval)]\n",
    "    else:\n",
    "        df = df.loc[~(df['session'].isin(sess_eval))]\n",
    "\n",
    "    df['session'] = df['session'].astype('int32')\n",
    "    df['aid'] = df['aid'].astype('int32')\n",
    "    df.ts = (df.ts/1000).astype('int32')\n",
    "    df.drop(['type'], axis=1, inplace=True)\n",
    "    df = df.rename(columns={'type_': 'type'})\n",
    "\n",
    "    df = df.sort_values(['session','ts'],ascending=[True,True])\n",
    "    df['k'] = np.arange(len(df))\n",
    "    # USE TAIL OF SESSION\n",
    "    #df = df.reset_index(drop=True)\n",
    "    #df['n'] = df.groupby('session').cumcount()\n",
    "    #df = df.loc[df.n<100].drop('n',axis=1)\n",
    "    # CREATE PAIRS\n",
    "    df = df.merge(df.drop_duplicates(['session','aid']),on=['session'])\n",
    "    df = df.loc[ ((df.k_y - df.k_x).abs()>=1) & ((df.k_y - df.k_x).abs()<=2) & (df.aid_x != df.aid_y) ]\n",
    "    # MEMORY MANAGEMENT COMPUTE IN PARTS\n",
    "    #df = df.loc[(df.aid_x >= PART*SIZE)&(df.aid_x < (PART+1)*SIZE)]\n",
    "    #df = df.sort_values('ts_x',ascending=False)\n",
    "    # ASSIGN WEIGHTS\n",
    "    df = df[['session', 'aid_x', 'aid_y']].drop_duplicates(['session', 'aid_x', 'aid_y'])\n",
    "    df['wgt'] = 1 #df.type_y.map(type_weight)            \n",
    "    #df['wgt'] = 1 + 3*(df.ts_x - 1659304800)/(1662328791-1659304800)\n",
    "\n",
    "    df = df[['aid_x','aid_y','wgt']]\n",
    "    df.wgt = df.wgt.astype('float32')\n",
    "    df = df.groupby(['aid_x','aid_y']).wgt.sum()\n",
    "\n",
    "    \n",
    "    #out.append(df.reset_index().to_pandas())\n",
    "    df.reset_index().to_parquet('/tmp/data/tmp3/split/split_' + str(e) + '.parquet')\n",
    "    del df\n",
    "    gc.collect()"
   ]
  },
  {
   "cell_type": "code",
   "execution_count": null,
   "id": "296c33d7",
   "metadata": {},
   "outputs": [
    {
     "name": "stdout",
     "output_type": "stream",
     "text": [
      "/tmp/data/tmp3/split/split_59.parquet\n",
      "/tmp/data/tmp3/split/split_111.parquet\n",
      "/tmp/data/tmp3/split/split_9.parquet\n",
      "/tmp/data/tmp3/split/split_36.parquet\n",
      "/tmp/data/tmp3/split/split_39.parquet\n",
      "/tmp/data/tmp3/split/split_69.parquet\n",
      "/tmp/data/tmp3/split/split_60.parquet\n",
      "/tmp/data/tmp3/split/split_25.parquet\n",
      "/tmp/data/tmp3/split/split_61.parquet\n",
      "/tmp/data/tmp3/split/split_127.parquet\n",
      "/tmp/data/tmp3/split/split_104.parquet\n",
      "/tmp/data/tmp3/split/split_110.parquet\n",
      "/tmp/data/tmp3/split/split_73.parquet\n",
      "/tmp/data/tmp3/split/split_81.parquet\n",
      "/tmp/data/tmp3/split/split_24.parquet\n",
      "/tmp/data/tmp3/split/split_6.parquet\n",
      "/tmp/data/tmp3/split/split_105.parquet\n",
      "/tmp/data/tmp3/split/split_28.parquet\n",
      "/tmp/data/tmp3/split/split_91.parquet\n",
      "/tmp/data/tmp3/split/split_107.parquet\n",
      "/tmp/data/tmp3/split/split_74.parquet\n",
      "/tmp/data/tmp3/split/split_35.parquet\n",
      "/tmp/data/tmp3/split/split_45.parquet\n",
      "/tmp/data/tmp3/split/split_65.parquet\n",
      "/tmp/data/tmp3/split/split_58.parquet\n",
      "/tmp/data/tmp3/split/split_11.parquet\n",
      "/tmp/data/tmp3/split/split_14.parquet\n",
      "/tmp/data/tmp3/split/split_32.parquet\n",
      "/tmp/data/tmp3/split/split_95.parquet\n",
      "/tmp/data/tmp3/split/split_75.parquet\n",
      "/tmp/data/tmp3/split/split_44.parquet\n",
      "/tmp/data/tmp3/split/split_31.parquet\n",
      "/tmp/data/tmp3/split/split_42.parquet\n",
      "/tmp/data/tmp3/split/split_12.parquet\n",
      "/tmp/data/tmp3/split/split_54.parquet\n",
      "/tmp/data/tmp3/split/split_19.parquet\n",
      "/tmp/data/tmp3/split/split_83.parquet\n",
      "/tmp/data/tmp3/split/split_126.parquet\n",
      "/tmp/data/tmp3/split/split_66.parquet\n",
      "/tmp/data/tmp3/split/split_98.parquet\n",
      "/tmp/data/tmp3/split/split_67.parquet\n",
      "/tmp/data/tmp3/split/split_96.parquet\n",
      "/tmp/data/tmp3/split/split_48.parquet\n",
      "/tmp/data/tmp3/split/split_128.parquet\n",
      "/tmp/data/tmp3/split/split_116.parquet\n",
      "/tmp/data/tmp3/split/split_34.parquet\n",
      "/tmp/data/tmp3/split/split_57.parquet\n",
      "/tmp/data/tmp3/split/split_47.parquet\n",
      "/tmp/data/tmp3/split/split_23.parquet\n",
      "/tmp/data/tmp3/split/split_103.parquet\n",
      "Filter\n",
      "(98015731, 3)\n",
      "/tmp/data/tmp3/split/split_16.parquet\n"
     ]
    }
   ],
   "source": [
    "files_split1 = glob.glob('/tmp/data/tmp3/split/split_*.parquet')\n",
    "tmp = cudf.read_parquet(files_split1[0])\n",
    "for iifile, file in enumerate(files_split1[1:]):\n",
    "    print(file)\n",
    "    df2 = cudf.read_parquet(file)\n",
    "    tmp = cudf.concat([\n",
    "        tmp,\n",
    "        df2\n",
    "    ])\n",
    "    gc.collect()\n",
    "    tmp = tmp.groupby(['aid_x','aid_y']).sum()\n",
    "    tmp = tmp.reset_index()\n",
    "    if ((iifile+1) % 50) == 0:\n",
    "        print('Filter')\n",
    "        print(tmp.shape)\n",
    "        tmp = tmp.sort_values(['aid_x','wgt'],ascending=[True,False])\n",
    "        # SAVE TOP 40\n",
    "        tmp = tmp.reset_index(drop=True)\n",
    "        tmp['n'] = tmp.groupby('aid_x').aid_y.cumcount()\n",
    "        tmp = tmp.loc[tmp.n<150].drop('n',axis=1)\n",
    "    del df2\n",
    "    gc.collect()"
   ]
  },
  {
   "cell_type": "code",
   "execution_count": null,
   "id": "d8c34983",
   "metadata": {},
   "outputs": [],
   "source": [
    "gc.collect()\n",
    "\n",
    "tmp = tmp.sort_values(['aid_x','wgt'],ascending=[True,False])\n",
    "# SAVE TOP 40\n",
    "tmp = tmp.reset_index(drop=True)\n",
    "tmp['n'] = tmp.groupby('aid_x').aid_y.cumcount()\n",
    "tmp = tmp.loc[tmp.n<80].drop('n',axis=1)\n",
    "\n",
    "tmp.to_parquet('./data_folds/fold_' + str(igfold) + '/top_40_aids_v220.parquet')"
   ]
  },
  {
   "cell_type": "code",
   "execution_count": null,
   "id": "5058f90b",
   "metadata": {},
   "outputs": [],
   "source": [
    "del tmp\n",
    "gc.collect()"
   ]
  }
 ],
 "metadata": {
  "kernelspec": {
   "display_name": "Python 3 (ipykernel)",
   "language": "python",
   "name": "python3"
  },
  "language_info": {
   "codemirror_mode": {
    "name": "ipython",
    "version": 3
   },
   "file_extension": ".py",
   "mimetype": "text/x-python",
   "name": "python",
   "nbconvert_exporter": "python",
   "pygments_lexer": "ipython3",
   "version": "3.8.10"
  }
 },
 "nbformat": 4,
 "nbformat_minor": 5
}
