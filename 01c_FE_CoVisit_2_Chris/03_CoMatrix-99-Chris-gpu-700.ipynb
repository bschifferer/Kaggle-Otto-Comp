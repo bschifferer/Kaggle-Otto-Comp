{
 "cells": [
  {
   "cell_type": "code",
   "execution_count": 1,
   "id": "ee3fd1aa",
   "metadata": {},
   "outputs": [
    {
     "data": {
      "text/plain": [
       "0"
      ]
     },
     "execution_count": 1,
     "metadata": {},
     "output_type": "execute_result"
    }
   ],
   "source": [
    "import os\n",
    "import numpy as np\n",
    "\n",
    "os.environ[\"CUDA_VISIBLE_DEVICES\"]=\"1\"\n",
    "igfold = 4\n",
    "os.system('mkdir -p ./data_folds/fold_' + str(igfold))"
   ]
  },
  {
   "cell_type": "code",
   "execution_count": 2,
   "id": "c6cdb6ca",
   "metadata": {},
   "outputs": [
    {
     "name": "stdout",
     "output_type": "stream",
     "text": [
      "Sat Jan 14 12:00:35 2023       \n",
      "+-----------------------------------------------------------------------------+\n",
      "| NVIDIA-SMI 450.119.04   Driver Version: 450.119.04   CUDA Version: 11.7     |\n",
      "|-------------------------------+----------------------+----------------------+\n",
      "| GPU  Name        Persistence-M| Bus-Id        Disp.A | Volatile Uncorr. ECC |\n",
      "| Fan  Temp  Perf  Pwr:Usage/Cap|         Memory-Usage | GPU-Util  Compute M. |\n",
      "|                               |                      |               MIG M. |\n",
      "|===============================+======================+======================|\n",
      "|   0  Tesla V100-SXM2...  On   | 00000000:06:00.0 Off |                    0 |\n",
      "| N/A   39C    P0    70W / 163W |   1438MiB / 32510MiB |     12%      Default |\n",
      "|                               |                      |                  N/A |\n",
      "+-------------------------------+----------------------+----------------------+\n",
      "|   1  Tesla V100-SXM2...  On   | 00000000:0B:00.0 Off |                    0 |\n",
      "| N/A   34C    P0    43W / 163W |      0MiB / 32510MiB |      0%      Default |\n",
      "|                               |                      |                  N/A |\n",
      "+-------------------------------+----------------------+----------------------+\n",
      "                                                                               \n",
      "+-----------------------------------------------------------------------------+\n",
      "| Processes:                                                                  |\n",
      "|  GPU   GI   CI        PID   Type   Process name                  GPU Memory |\n",
      "|        ID   ID                                                   Usage      |\n",
      "|=============================================================================|\n",
      "+-----------------------------------------------------------------------------+\n"
     ]
    }
   ],
   "source": [
    "!nvidia-smi"
   ]
  },
  {
   "cell_type": "code",
   "execution_count": 3,
   "id": "0dd54a93",
   "metadata": {},
   "outputs": [],
   "source": [
    "import cudf\n",
    "import glob\n",
    "import gc\n",
    "\n",
    "from tqdm import tqdm"
   ]
  },
  {
   "cell_type": "code",
   "execution_count": 4,
   "id": "0c383e27",
   "metadata": {},
   "outputs": [],
   "source": [
    "lb = False\n",
    "path = '../data/'\n",
    "type_weight = {0:1, 1:6, 2:3}\n",
    "no_files = 1\n",
    "path = '../../data/'\n",
    "    \n",
    "df_type = cudf.DataFrame({\n",
    "    'type': ['clicks', 'carts', 'orders'],\n",
    "    'type_': [0, 1, 2]\n",
    "})\n",
    "\n",
    "def list_in_chunks(files, no_chunks=10):\n",
    "    out = [[] for _ in range(no_chunks)]\n",
    "    for i, file in enumerate(files):\n",
    "        out[i%no_chunks].append(file)\n",
    "    return(out)"
   ]
  },
  {
   "cell_type": "code",
   "execution_count": 5,
   "id": "191ae9ed",
   "metadata": {},
   "outputs": [
    {
     "name": "stdout",
     "output_type": "stream",
     "text": [
      "356746\n"
     ]
    }
   ],
   "source": [
    "import pickle\n",
    "\n",
    "sessions = pickle.load(open('./data/sessions_eval.pickle', 'rb'))\n",
    "if igfold == 0:\n",
    "    sess_eval = sessions[0]+sessions[1]\n",
    "elif igfold == 1:\n",
    "    sess_eval = sessions[2]+sessions[3]\n",
    "elif igfold == 2:\n",
    "    sess_eval = sessions[4]+sessions[5]\n",
    "elif igfold == 3:\n",
    "    sess_eval = sessions[6]+sessions[7]\n",
    "elif igfold == 4:\n",
    "    sess_eval = sessions[8]+sessions[9]\n",
    "print(len(sess_eval))"
   ]
  },
  {
   "cell_type": "code",
   "execution_count": 6,
   "id": "e4fc5e92",
   "metadata": {},
   "outputs": [],
   "source": [
    "# !rm -rf ./data/\n",
    "!mkdir -p ./data/"
   ]
  },
  {
   "cell_type": "code",
   "execution_count": 7,
   "id": "658f63cb",
   "metadata": {},
   "outputs": [],
   "source": [
    "files = sorted(\n",
    "    glob.glob(path + '/train/interim/*.parquet')\n",
    ")\n",
    "files_split = [glob.glob('../../data/test.parquet')] + [glob.glob('./data/xgb_train_x.parquet')] + list_in_chunks(files, no_chunks=len(files)//no_files)"
   ]
  },
  {
   "cell_type": "code",
   "execution_count": 8,
   "id": "4a9e0999",
   "metadata": {},
   "outputs": [
    {
     "data": {
      "text/plain": [
       "131"
      ]
     },
     "execution_count": 8,
     "metadata": {},
     "output_type": "execute_result"
    }
   ],
   "source": [
    "len(files_split)"
   ]
  },
  {
   "cell_type": "markdown",
   "id": "2792989c",
   "metadata": {},
   "source": [
    "### 0) Clicks->Orders"
   ]
  },
  {
   "cell_type": "code",
   "execution_count": 9,
   "id": "4949073f",
   "metadata": {},
   "outputs": [],
   "source": [
    "!rm -r /tmp/data/tmp8\n",
    "!mkdir -p /tmp/data/tmp8/split"
   ]
  },
  {
   "cell_type": "code",
   "execution_count": 10,
   "id": "720ded20",
   "metadata": {},
   "outputs": [
    {
     "name": "stderr",
     "output_type": "stream",
     "text": [
      "1it [00:01,  1.67s/it]"
     ]
    },
    {
     "name": "stdout",
     "output_type": "stream",
     "text": [
      "['./data/xgb_train_x.parquet']\n"
     ]
    },
    {
     "name": "stderr",
     "output_type": "stream",
     "text": [
      "131it [01:43,  1.27it/s]\n"
     ]
    }
   ],
   "source": [
    "out = []\n",
    "for e, file in tqdm(enumerate(files_split)):\n",
    "    df = cudf.read_parquet(file).reset_index(drop=True)\n",
    "    df = df.merge(\n",
    "        df_type,\n",
    "        how='left',\n",
    "        on='type'\n",
    "    )\n",
    "    if any([True for x in file if 'xgb_train_x.parquet' in x]):\n",
    "        print(file)\n",
    "        df = df[df['session'].isin(sess_eval)]\n",
    "    else:\n",
    "        df = df.loc[~(df['session'].isin(sess_eval))]\n",
    "\n",
    "    df['session'] = df['session'].astype('int32')\n",
    "    df['aid'] = df['aid'].astype('int32')\n",
    "    df.ts = (df.ts/1000).astype('int32')\n",
    "    df.drop(['type'], axis=1, inplace=True)\n",
    "    df = df.rename(columns={'type_': 'type'})\n",
    "\n",
    "    # NEW USERS IN LAST 2 WEEKS\n",
    "    df['mn'] = df.groupby('session').ts.transform('min')\n",
    "    df = df.loc[df.mn > 1662328791 - 60*60*24*21] \n",
    "    df = df.drop('mn',axis=1)\n",
    "    #print(files[k], df.shape )\n",
    "\n",
    "    df = df.sort_values(['session','ts'],ascending=[True,True])\n",
    "    #df['k'] = np.arange(len(df))\n",
    "\n",
    "    # USE TAIL OF SESSION\n",
    "    df = df.reset_index(drop=True)\n",
    "    df['n'] = df.groupby('session').cumcount()\n",
    "    #df = df.loc[df.n<100].drop('n',axis=1)\n",
    "\n",
    "    # CREATE PAIRS\n",
    "    #df = df.loc[df.n==0].merge(df.drop_duplicates(['session','aid','type']),on=['session'])\n",
    "    df = df.loc[df.n==0].merge(df.loc[df['type']>0], on=['session'])\n",
    "    df = df.loc[df.aid_x != df.aid_y]\n",
    "\n",
    "    # MEMORY MANAGEMENT COMPUTE IN PARTS\n",
    "    #df = df.loc[(df.aid_x >= PART*SIZE)&(df.aid_x < (PART+1)*SIZE)]\n",
    "    #df = df.sort_values('ts_x',ascending=False)\n",
    "\n",
    "    # ASSIGN WEIGHTS\n",
    "    df = df.sort_values(['session','ts_y'],ascending=[True,True])\n",
    "    df = df[['session', 'aid_x', 'aid_y','type_y']].drop_duplicates(['session', 'aid_x', 'aid_y','type_y'])\n",
    "\n",
    "    #w = (1/2)**( (df.ts_x - df.ts_y).abs() /60/60)\n",
    "    df['wgt'] = 1 #df.type_y.map(type_weight)            \n",
    "    #df['wgt'] = 1 + 3*(df.ts_x - 1659304800)/(1662328791-1659304800)\n",
    "\n",
    "    df = df[['aid_x','aid_y','wgt']]\n",
    "    df.wgt = df.wgt.astype('float32')\n",
    "    df = df.groupby(['aid_x','aid_y']).wgt.sum()\n",
    "    \n",
    "    #out.append(df.reset_index().to_pandas())\n",
    "    df.reset_index().to_parquet('/tmp/data/tmp8/split/split_' + str(e) + '.parquet')\n",
    "    del df\n",
    "    gc.collect()"
   ]
  },
  {
   "cell_type": "code",
   "execution_count": 11,
   "id": "296c33d7",
   "metadata": {},
   "outputs": [
    {
     "name": "stdout",
     "output_type": "stream",
     "text": [
      "/tmp/data/tmp8/split/split_59.parquet\n",
      "/tmp/data/tmp8/split/split_111.parquet\n",
      "/tmp/data/tmp8/split/split_9.parquet\n",
      "/tmp/data/tmp8/split/split_36.parquet\n",
      "/tmp/data/tmp8/split/split_39.parquet\n",
      "/tmp/data/tmp8/split/split_69.parquet\n",
      "/tmp/data/tmp8/split/split_60.parquet\n",
      "/tmp/data/tmp8/split/split_25.parquet\n",
      "/tmp/data/tmp8/split/split_61.parquet\n",
      "/tmp/data/tmp8/split/split_127.parquet\n",
      "/tmp/data/tmp8/split/split_104.parquet\n",
      "/tmp/data/tmp8/split/split_110.parquet\n",
      "/tmp/data/tmp8/split/split_73.parquet\n",
      "/tmp/data/tmp8/split/split_81.parquet\n",
      "/tmp/data/tmp8/split/split_24.parquet\n",
      "/tmp/data/tmp8/split/split_6.parquet\n",
      "/tmp/data/tmp8/split/split_105.parquet\n",
      "/tmp/data/tmp8/split/split_28.parquet\n",
      "/tmp/data/tmp8/split/split_91.parquet\n",
      "/tmp/data/tmp8/split/split_107.parquet\n",
      "/tmp/data/tmp8/split/split_74.parquet\n",
      "/tmp/data/tmp8/split/split_35.parquet\n",
      "/tmp/data/tmp8/split/split_45.parquet\n",
      "/tmp/data/tmp8/split/split_65.parquet\n",
      "/tmp/data/tmp8/split/split_58.parquet\n",
      "/tmp/data/tmp8/split/split_11.parquet\n",
      "/tmp/data/tmp8/split/split_14.parquet\n",
      "/tmp/data/tmp8/split/split_32.parquet\n",
      "/tmp/data/tmp8/split/split_95.parquet\n",
      "/tmp/data/tmp8/split/split_75.parquet\n",
      "/tmp/data/tmp8/split/split_44.parquet\n",
      "/tmp/data/tmp8/split/split_31.parquet\n",
      "/tmp/data/tmp8/split/split_42.parquet\n",
      "/tmp/data/tmp8/split/split_12.parquet\n",
      "/tmp/data/tmp8/split/split_54.parquet\n",
      "/tmp/data/tmp8/split/split_19.parquet\n",
      "/tmp/data/tmp8/split/split_83.parquet\n",
      "/tmp/data/tmp8/split/split_126.parquet\n",
      "/tmp/data/tmp8/split/split_66.parquet\n",
      "/tmp/data/tmp8/split/split_98.parquet\n",
      "/tmp/data/tmp8/split/split_67.parquet\n",
      "/tmp/data/tmp8/split/split_96.parquet\n",
      "/tmp/data/tmp8/split/split_48.parquet\n",
      "/tmp/data/tmp8/split/split_128.parquet\n",
      "/tmp/data/tmp8/split/split_116.parquet\n",
      "/tmp/data/tmp8/split/split_34.parquet\n",
      "/tmp/data/tmp8/split/split_57.parquet\n",
      "/tmp/data/tmp8/split/split_47.parquet\n",
      "/tmp/data/tmp8/split/split_23.parquet\n",
      "/tmp/data/tmp8/split/split_103.parquet\n",
      "Filter\n",
      "(817890, 3)\n",
      "/tmp/data/tmp8/split/split_16.parquet\n",
      "/tmp/data/tmp8/split/split_92.parquet\n",
      "/tmp/data/tmp8/split/split_86.parquet\n",
      "/tmp/data/tmp8/split/split_78.parquet\n",
      "/tmp/data/tmp8/split/split_63.parquet\n",
      "/tmp/data/tmp8/split/split_37.parquet\n",
      "/tmp/data/tmp8/split/split_55.parquet\n",
      "/tmp/data/tmp8/split/split_30.parquet\n",
      "/tmp/data/tmp8/split/split_76.parquet\n",
      "/tmp/data/tmp8/split/split_72.parquet\n",
      "/tmp/data/tmp8/split/split_84.parquet\n",
      "/tmp/data/tmp8/split/split_93.parquet\n",
      "/tmp/data/tmp8/split/split_100.parquet\n",
      "/tmp/data/tmp8/split/split_53.parquet\n",
      "/tmp/data/tmp8/split/split_22.parquet\n",
      "/tmp/data/tmp8/split/split_68.parquet\n",
      "/tmp/data/tmp8/split/split_29.parquet\n",
      "/tmp/data/tmp8/split/split_87.parquet\n",
      "/tmp/data/tmp8/split/split_122.parquet\n",
      "/tmp/data/tmp8/split/split_27.parquet\n",
      "/tmp/data/tmp8/split/split_115.parquet\n",
      "/tmp/data/tmp8/split/split_62.parquet\n",
      "/tmp/data/tmp8/split/split_113.parquet\n",
      "/tmp/data/tmp8/split/split_102.parquet\n",
      "/tmp/data/tmp8/split/split_13.parquet\n",
      "/tmp/data/tmp8/split/split_108.parquet\n",
      "/tmp/data/tmp8/split/split_46.parquet\n",
      "/tmp/data/tmp8/split/split_120.parquet\n",
      "/tmp/data/tmp8/split/split_20.parquet\n",
      "/tmp/data/tmp8/split/split_101.parquet\n",
      "/tmp/data/tmp8/split/split_0.parquet\n",
      "/tmp/data/tmp8/split/split_121.parquet\n",
      "/tmp/data/tmp8/split/split_18.parquet\n",
      "/tmp/data/tmp8/split/split_7.parquet\n",
      "/tmp/data/tmp8/split/split_94.parquet\n",
      "/tmp/data/tmp8/split/split_130.parquet\n",
      "/tmp/data/tmp8/split/split_56.parquet\n",
      "/tmp/data/tmp8/split/split_3.parquet\n",
      "/tmp/data/tmp8/split/split_85.parquet\n",
      "/tmp/data/tmp8/split/split_88.parquet\n",
      "/tmp/data/tmp8/split/split_80.parquet\n",
      "/tmp/data/tmp8/split/split_2.parquet\n",
      "/tmp/data/tmp8/split/split_5.parquet\n",
      "/tmp/data/tmp8/split/split_17.parquet\n",
      "/tmp/data/tmp8/split/split_89.parquet\n",
      "/tmp/data/tmp8/split/split_97.parquet\n",
      "/tmp/data/tmp8/split/split_71.parquet\n",
      "/tmp/data/tmp8/split/split_109.parquet\n",
      "/tmp/data/tmp8/split/split_118.parquet\n",
      "/tmp/data/tmp8/split/split_90.parquet\n",
      "Filter\n",
      "(1797461, 3)\n",
      "/tmp/data/tmp8/split/split_125.parquet\n",
      "/tmp/data/tmp8/split/split_10.parquet\n",
      "/tmp/data/tmp8/split/split_77.parquet\n",
      "/tmp/data/tmp8/split/split_82.parquet\n",
      "/tmp/data/tmp8/split/split_117.parquet\n",
      "/tmp/data/tmp8/split/split_49.parquet\n",
      "/tmp/data/tmp8/split/split_79.parquet\n",
      "/tmp/data/tmp8/split/split_21.parquet\n",
      "/tmp/data/tmp8/split/split_70.parquet\n",
      "/tmp/data/tmp8/split/split_40.parquet\n",
      "/tmp/data/tmp8/split/split_4.parquet\n",
      "/tmp/data/tmp8/split/split_129.parquet\n",
      "/tmp/data/tmp8/split/split_1.parquet\n",
      "/tmp/data/tmp8/split/split_41.parquet\n",
      "/tmp/data/tmp8/split/split_99.parquet\n",
      "/tmp/data/tmp8/split/split_64.parquet\n",
      "/tmp/data/tmp8/split/split_33.parquet\n",
      "/tmp/data/tmp8/split/split_112.parquet\n",
      "/tmp/data/tmp8/split/split_52.parquet\n",
      "/tmp/data/tmp8/split/split_114.parquet\n",
      "/tmp/data/tmp8/split/split_15.parquet\n",
      "/tmp/data/tmp8/split/split_106.parquet\n",
      "/tmp/data/tmp8/split/split_119.parquet\n",
      "/tmp/data/tmp8/split/split_50.parquet\n",
      "/tmp/data/tmp8/split/split_8.parquet\n",
      "/tmp/data/tmp8/split/split_43.parquet\n",
      "/tmp/data/tmp8/split/split_124.parquet\n",
      "/tmp/data/tmp8/split/split_123.parquet\n",
      "/tmp/data/tmp8/split/split_51.parquet\n",
      "/tmp/data/tmp8/split/split_26.parquet\n"
     ]
    }
   ],
   "source": [
    "files_split1 = glob.glob('/tmp/data/tmp8/split/split_*.parquet')\n",
    "tmp = cudf.read_parquet(files_split1[0])\n",
    "for iifile, file in enumerate(files_split1[1:]):\n",
    "    print(file)\n",
    "    df2 = cudf.read_parquet(file)\n",
    "    tmp = cudf.concat([\n",
    "        tmp,\n",
    "        df2\n",
    "    ])\n",
    "    gc.collect()\n",
    "    tmp = tmp.groupby(['aid_x','aid_y']).sum()\n",
    "    tmp = tmp.reset_index()\n",
    "    if ((iifile+1) % 50) == 0:\n",
    "        print('Filter')\n",
    "        print(tmp.shape)\n",
    "        tmp = tmp.sort_values(['aid_x','wgt'],ascending=[True,False])\n",
    "        # SAVE TOP 40\n",
    "        tmp = tmp.reset_index(drop=True)\n",
    "        tmp['n'] = tmp.groupby('aid_x').aid_y.cumcount()\n",
    "        tmp = tmp.loc[tmp.n<100].drop('n',axis=1)\n",
    "    del df2\n",
    "    gc.collect()"
   ]
  },
  {
   "cell_type": "code",
   "execution_count": 12,
   "id": "d8c34983",
   "metadata": {},
   "outputs": [],
   "source": [
    "gc.collect()\n",
    "\n",
    "tmp = tmp.sort_values(['aid_x','wgt'],ascending=[True,False])\n",
    "# SAVE TOP 40\n",
    "tmp = tmp.reset_index(drop=True)\n",
    "tmp['n'] = tmp.groupby('aid_x').aid_y.cumcount()\n",
    "tmp = tmp.loc[tmp.n<0].drop('n',axis=1)\n",
    "\n",
    "tmp.to_parquet('./data_folds/fold_' + str(igfold) + '/top_40_aids_v700.parquet')"
   ]
  },
  {
   "cell_type": "code",
   "execution_count": 13,
   "id": "5058f90b",
   "metadata": {},
   "outputs": [
    {
     "data": {
      "text/plain": [
       "48"
      ]
     },
     "execution_count": 13,
     "metadata": {},
     "output_type": "execute_result"
    }
   ],
   "source": [
    "del tmp\n",
    "gc.collect()"
   ]
  }
 ],
 "metadata": {
  "kernelspec": {
   "display_name": "Python 3 (ipykernel)",
   "language": "python",
   "name": "python3"
  },
  "language_info": {
   "codemirror_mode": {
    "name": "ipython",
    "version": 3
   },
   "file_extension": ".py",
   "mimetype": "text/x-python",
   "name": "python",
   "nbconvert_exporter": "python",
   "pygments_lexer": "ipython3",
   "version": "3.8.10"
  }
 },
 "nbformat": 4,
 "nbformat_minor": 5
}
