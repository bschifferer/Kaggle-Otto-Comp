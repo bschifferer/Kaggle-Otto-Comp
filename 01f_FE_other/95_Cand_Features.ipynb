{
 "cells": [
  {
   "cell_type": "code",
   "execution_count": 1,
   "id": "1c38de5d",
   "metadata": {},
   "outputs": [
    {
     "data": {
      "text/plain": [
       "0"
      ]
     },
     "execution_count": 1,
     "metadata": {},
     "output_type": "execute_result"
    }
   ],
   "source": [
    "import os\n",
    "\n",
    "os.environ[\"CUDA_VISIBLE_DEVICES\"]=\"0\"\n",
    "igfold = 0\n",
    "os.system('mkdir -p ./data_folds/fold_' + str(igfold))"
   ]
  },
  {
   "cell_type": "code",
   "execution_count": 2,
   "id": "735ae619",
   "metadata": {},
   "outputs": [
    {
     "name": "stdout",
     "output_type": "stream",
     "text": [
      "Tue Jan 17 14:11:11 2023       \n",
      "+-----------------------------------------------------------------------------+\n",
      "| NVIDIA-SMI 450.119.04   Driver Version: 450.119.04   CUDA Version: 11.7     |\n",
      "|-------------------------------+----------------------+----------------------+\n",
      "| GPU  Name        Persistence-M| Bus-Id        Disp.A | Volatile Uncorr. ECC |\n",
      "| Fan  Temp  Perf  Pwr:Usage/Cap|         Memory-Usage | GPU-Util  Compute M. |\n",
      "|                               |                      |               MIG M. |\n",
      "|===============================+======================+======================|\n",
      "|   0  Tesla V100-SXM2...  On   | 00000000:86:00.0 Off |                    0 |\n",
      "| N/A   34C    P0    42W / 163W |      0MiB / 32510MiB |      0%      Default |\n",
      "|                               |                      |                  N/A |\n",
      "+-------------------------------+----------------------+----------------------+\n",
      "|   1  Tesla V100-SXM2...  On   | 00000000:89:00.0 Off |                    0 |\n",
      "| N/A   35C    P0    42W / 163W |      0MiB / 32510MiB |      0%      Default |\n",
      "|                               |                      |                  N/A |\n",
      "+-------------------------------+----------------------+----------------------+\n",
      "                                                                               \n",
      "+-----------------------------------------------------------------------------+\n",
      "| Processes:                                                                  |\n",
      "|  GPU   GI   CI        PID   Type   Process name                  GPU Memory |\n",
      "|        ID   ID                                                   Usage      |\n",
      "|=============================================================================|\n",
      "|  No running processes found                                                 |\n",
      "+-----------------------------------------------------------------------------+\n"
     ]
    }
   ],
   "source": [
    "!nvidia-smi"
   ]
  },
  {
   "cell_type": "code",
   "execution_count": 3,
   "id": "c3ca6660",
   "metadata": {},
   "outputs": [],
   "source": [
    "import os\n",
    "\n",
    "import cudf\n",
    "import glob"
   ]
  },
  {
   "cell_type": "code",
   "execution_count": 4,
   "id": "60b54ab3",
   "metadata": {},
   "outputs": [],
   "source": [
    "dataset = 'train'\n",
    "ty = 'clicks'\n",
    "\n",
    "sub_prev_week  =  ['2022-08-22', '2022-08-29']\n",
    "sub_prev_2week =  ['2022-08-15', '2022-08-29']\n",
    "sub_prev_3week =  ['2022-08-08', '2022-08-29']\n",
    "\n",
    "train_prev_week  = ['2022-08-15', '2022-08-22']\n",
    "train_prev_2week = ['2022-08-08', '2022-08-22']\n",
    "train_prev_3week = ['2022-08-01', '2022-08-22']\n",
    "\n",
    "train4th_file = './data/xgb_train_x.parquet'\n",
    "sub_file = '../../data/test.parquet'"
   ]
  },
  {
   "cell_type": "code",
   "execution_count": 5,
   "id": "e779d8ce",
   "metadata": {},
   "outputs": [],
   "source": [
    "files = sorted(\n",
    "    glob.glob('../../data/' + '/train/interim/*.parquet')\n",
    ")\n",
    "\n",
    "prefixes = ['p1w', 'p2w', 'p3w']\n",
    "\n",
    "df = cudf.concat(\n",
    "    [\n",
    "        cudf.read_parquet(x) for x in sorted(files)\n",
    "    ] \n",
    ").reset_index(drop=True)\n",
    "\n",
    "for dataset in ['train', 'sub']:\n",
    "    out = []\n",
    "    if dataset == 'train':\n",
    "        weeks_ints = [train_prev_week, train_prev_2week, train_prev_3week]\n",
    "        df_tmp = cudf.read_parquet('./data/xgb_train_x.parquet')\n",
    "    elif dataset == 'sub':\n",
    "        weeks_ints = [sub_prev_week, sub_prev_2week, sub_prev_3week]\n",
    "        df_tmp = cudf.read_parquet('../../data/test.parquet')\n",
    "    else:\n",
    "        assert 0!=0\n",
    "    prefix = 'p0w'\n",
    "    df_tmp['clicks'] = (df_tmp['type']=='clicks').astype('int8')\n",
    "    df_tmp['carts'] = (df_tmp['type']=='carts').astype('int8')\n",
    "    df_tmp['orders'] = (df_tmp['type']=='orders').astype('int8')\n",
    "    df_tmp = df_tmp[['aid','clicks', 'carts', 'orders']].groupby(['aid']).sum().reset_index()\n",
    "    df_tmp = df_tmp.rename(columns={\n",
    "        'clicks': prefix+'_clicks',\n",
    "        'carts': prefix+'_carts',\n",
    "        'orders': prefix+'_orders',\n",
    "    })\n",
    "    out.append(df_tmp)\n",
    "\n",
    "        \n",
    "    for i, week_int in enumerate(weeks_ints):\n",
    "        df_tmp = df[\n",
    "            (cudf.to_datetime(df['ts']/1000, unit='s')>=cudf.to_datetime(week_int[0]))&\n",
    "            (cudf.to_datetime(df['ts']/1000, unit='s')<cudf.to_datetime(week_int[1]))\n",
    "        ]\n",
    "        prefix = prefixes[i]\n",
    "        df_tmp['clicks'] = (df_tmp['type']=='clicks').astype('int8')\n",
    "        df_tmp['carts'] = (df_tmp['type']=='carts').astype('int8')\n",
    "        df_tmp['orders'] = (df_tmp['type']=='orders').astype('int8')\n",
    "        df_tmp = df_tmp[['aid','clicks', 'carts', 'orders']].groupby(['aid']).sum().reset_index()\n",
    "        df_tmp = df_tmp.rename(columns={\n",
    "            'clicks': prefix+'_clicks',\n",
    "            'carts': prefix+'_carts',\n",
    "            'orders': prefix+'_orders',\n",
    "        })\n",
    "        out.append(df_tmp)\n",
    "    \n",
    "    prefix = 'p0w'\n",
    "    if dataset == 'train':\n",
    "        df_tmp = cudf.read_parquet(train4th_file)\n",
    "    else:\n",
    "        df_tmp = cudf.read_parquet(sub_file)\n",
    "    df_tmp['clicks'] = (df_tmp['type']=='clicks').astype('int8')\n",
    "    df_tmp['carts'] = (df_tmp['type']=='carts').astype('int8')\n",
    "    df_tmp['orders'] = (df_tmp['type']=='orders').astype('int8')\n",
    "    df_tmp = df_tmp[['aid','clicks', 'carts', 'orders']].groupby(['aid']).sum().reset_index()\n",
    "    df_tmp = df_tmp.rename(columns={\n",
    "        'clicks': prefix+'_clicks',\n",
    "        'carts': prefix+'_carts',\n",
    "        'orders': prefix+'_orders',\n",
    "    })\n",
    "    out.append(df_tmp)\n",
    "    \n",
    "    df_tmp = cudf.concat(out)\n",
    "    df_tmp = df_tmp.fillna(0)\n",
    "    df_tmp = df_tmp.groupby(['aid']).sum()\n",
    "    df_tmp = df_tmp.reset_index()\n",
    "    df_tmp.to_parquet('./data/' + dataset + '_cand_meta_comb.parquet')"
   ]
  },
  {
   "cell_type": "code",
   "execution_count": 6,
   "id": "86f3bcc4",
   "metadata": {},
   "outputs": [],
   "source": [
    "dataset = 'train'\n",
    "df_tmp = cudf.read_parquet(train4th_file)\n",
    "df_day_map = cudf.DataFrame({\n",
    "    'day': [21, 22, 23, 24, 25, 26, 27, 28],\n",
    "    'day_': [0, 0, 1, 2, 3, 4, 5, 6]\n",
    "})\n",
    "df_tmp['day'] = cudf.to_datetime(df_tmp['ts']/1000, unit='s').dt.day\n",
    "df_tmp = df_tmp.merge(\n",
    "    df_day_map,\n",
    "    how='left',\n",
    "    on=['day']\n",
    ")\n",
    "prefix = 'sday'\n",
    "\n",
    "df_tmp['clicks'] = (df_tmp['type']=='clicks').astype('int8')\n",
    "df_tmp['carts'] = (df_tmp['type']=='carts').astype('int8')\n",
    "df_tmp['orders'] = (df_tmp['type']=='orders').astype('int8')\n",
    "df_tmp = df_tmp[['aid', 'day_', 'clicks', 'carts', 'orders']].groupby(['aid', 'day_']).sum().reset_index()\n",
    "df_tmp = df_tmp.rename(columns={\n",
    "    'clicks': prefix+'_clicks',\n",
    "    'carts': prefix+'_carts',\n",
    "    'orders': prefix+'_orders',\n",
    "})\n",
    "df_tmp.to_parquet('./data/' + dataset + '_cand_day_meta_comb.parquet')"
   ]
  },
  {
   "cell_type": "code",
   "execution_count": 7,
   "id": "29b1d9df",
   "metadata": {},
   "outputs": [],
   "source": [
    "dataset = 'sub'\n",
    "df_tmp = cudf.read_parquet(sub_file)\n",
    "df_day_map = cudf.DataFrame({\n",
    "    'day': [28, 29, 30, 31, 1, 2, 3, 4],\n",
    "    'day_': [0, 0, 1, 2, 3, 4, 5, 6]\n",
    "})\n",
    "df_tmp['day'] = cudf.to_datetime(df_tmp['ts']/1000, unit='s').dt.day\n",
    "df_tmp = df_tmp.merge(\n",
    "    df_day_map,\n",
    "    how='left',\n",
    "    on=['day']\n",
    ")\n",
    "prefix = 'sday'\n",
    "\n",
    "df_tmp['clicks'] = (df_tmp['type']=='clicks').astype('int8')\n",
    "df_tmp['carts'] = (df_tmp['type']=='carts').astype('int8')\n",
    "df_tmp['orders'] = (df_tmp['type']=='orders').astype('int8')\n",
    "df_tmp = df_tmp[['aid', 'day_', 'clicks', 'carts', 'orders']].groupby(['aid', 'day_']).sum().reset_index()\n",
    "df_tmp = df_tmp.rename(columns={\n",
    "    'clicks': prefix+'_clicks',\n",
    "    'carts': prefix+'_carts',\n",
    "    'orders': prefix+'_orders',\n",
    "})\n",
    "df_tmp.to_parquet('./data/' + dataset + '_cand_day_meta_comb.parquet')"
   ]
  },
  {
   "cell_type": "code",
   "execution_count": 9,
   "id": "39261c7e",
   "metadata": {},
   "outputs": [],
   "source": [
    "!cp -r ./data/train_cand_meta_comb.parquet ./data_folds/fold_0/\n",
    "!cp -r ./data/train_cand_meta_comb.parquet ./data_folds/fold_1/\n",
    "!cp -r ./data/train_cand_meta_comb.parquet ./data_folds/fold_2/\n",
    "!cp -r ./data/train_cand_meta_comb.parquet ./data_folds/fold_3/\n",
    "!cp -r ./data/train_cand_meta_comb.parquet ./data_folds/fold_4/"
   ]
  },
  {
   "cell_type": "code",
   "execution_count": 10,
   "id": "cfd58296",
   "metadata": {},
   "outputs": [],
   "source": [
    "!cp -r ./data/sub_cand_meta_comb.parquet ./data_folds/fold_0/\n",
    "!cp -r ./data/sub_cand_meta_comb.parquet ./data_folds/fold_1/\n",
    "!cp -r ./data/sub_cand_meta_comb.parquet ./data_folds/fold_2/\n",
    "!cp -r ./data/sub_cand_meta_comb.parquet ./data_folds/fold_3/\n",
    "!cp -r ./data/sub_cand_meta_comb.parquet ./data_folds/fold_4/"
   ]
  },
  {
   "cell_type": "code",
   "execution_count": null,
   "id": "8dc65ade",
   "metadata": {},
   "outputs": [],
   "source": []
  },
  {
   "cell_type": "code",
   "execution_count": null,
   "id": "96d6bcec",
   "metadata": {},
   "outputs": [],
   "source": []
  },
  {
   "cell_type": "code",
   "execution_count": null,
   "id": "8feb49e1",
   "metadata": {},
   "outputs": [],
   "source": []
  }
 ],
 "metadata": {
  "kernelspec": {
   "display_name": "Python 3 (ipykernel)",
   "language": "python",
   "name": "python3"
  },
  "language_info": {
   "codemirror_mode": {
    "name": "ipython",
    "version": 3
   },
   "file_extension": ".py",
   "mimetype": "text/x-python",
   "name": "python",
   "nbconvert_exporter": "python",
   "pygments_lexer": "ipython3",
   "version": "3.8.10"
  }
 },
 "nbformat": 4,
 "nbformat_minor": 5
}
