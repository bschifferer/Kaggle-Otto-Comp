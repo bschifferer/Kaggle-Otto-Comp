{
 "cells": [
  {
   "cell_type": "code",
   "execution_count": 1,
   "id": "7d771e06",
   "metadata": {},
   "outputs": [],
   "source": [
    "import cudf\n",
    "import numpy as np\n",
    "import gc\n",
    "\n",
    "import glob"
   ]
  },
  {
   "cell_type": "code",
   "execution_count": 2,
   "id": "a778beb1",
   "metadata": {},
   "outputs": [],
   "source": [
    "df_type = cudf.DataFrame({\n",
    "    'type': ['clicks', 'carts', 'orders'],\n",
    "    'type_': [1, 2, 3],\n",
    "    'type_mp': [0.5, 9, 0.5]\n",
    "})\n"
   ]
  },
  {
   "cell_type": "code",
   "execution_count": 3,
   "id": "b24ff57e",
   "metadata": {},
   "outputs": [],
   "source": [
    "def calc_visits(df):\n",
    "    df = df.merge(\n",
    "        df_type,\n",
    "        how='left',\n",
    "        on='type'\n",
    "    )\n",
    "    df['session'] = df['session'].astype('int32')\n",
    "    df['aid'] = df['aid'].astype('int32')\n",
    "    df.ts = (df.ts/1000).astype('int32')\n",
    "    df.drop(['type'], axis=1, inplace=True)\n",
    "    df = df.rename(columns={'type_': 'type'})\n",
    "    df = df.merge(\n",
    "        df[['session']].groupby(['session']).size().reset_index().rename(columns={0: 'session_len'}),\n",
    "        how='left',\n",
    "        on='session'\n",
    "    )\n",
    "    df = df.merge(\n",
    "        df[['session', 'ts']].groupby(['session']).max().reset_index().rename(columns={'ts': 'ts_max'}),\n",
    "        how='left',\n",
    "        on='session'\n",
    "    )\n",
    "    df = df.sort_values(['session', 'ts'], ascending=[True, False])\n",
    "    df['dummy'] = 1\n",
    "    df['rank'] = df.groupby(['session']).dummy.cumsum()\n",
    "    df.drop(['dummy'], axis=1, inplace=True)\n",
    "    min_val = (2 ** 0.1-1)\n",
    "    max_val = (2 ** 1-1)\n",
    "    df['wgt_1'] = (min_val+(max_val-min_val)*(df['rank']-1)/(df['session_len']))*df['type_mp']\n",
    "    min_val = (2 ** 0.5-1)\n",
    "    max_val = (2 ** 1-1)\n",
    "    df['wgt_2'] = (min_val+(max_val-min_val)*(df['rank']-1)/(df['session_len']))*df['type_mp']\n",
    "    df['ts_diff'] = df['ts_max']-df['ts']\n",
    "    df['clicks'] = (df['type']==1).astype('int')\n",
    "    df['carts'] = (df['type']==2).astype('int')\n",
    "    df['orders'] = (df['type']==3).astype('int')\n",
    "    df = df[\n",
    "        ['session', 'aid', 'ts_diff', 'rank', 'wgt_1', 'wgt_2', 'clicks', 'carts', 'orders']\n",
    "    ].groupby([\n",
    "        'session', 'aid',\n",
    "    ]).agg({\n",
    "        'wgt_1': 'sum',\n",
    "        'wgt_2': 'sum'\n",
    "    }).reset_index().rename(columns={\n",
    "        'wgt_1': 'pv_2_wgt_1', 'wgt_2': 'pv_2_wgt_2', 'aid': 'cand'\n",
    "    })\n",
    "    return(df)"
   ]
  },
  {
   "cell_type": "code",
   "execution_count": 4,
   "id": "5541eaff",
   "metadata": {},
   "outputs": [],
   "source": [
    "!mkdir -p ./data/candidates/train/pv_2/"
   ]
  },
  {
   "cell_type": "code",
   "execution_count": 5,
   "id": "18e49fa3",
   "metadata": {},
   "outputs": [],
   "source": [
    "df = cudf.read_parquet('./data/xgb_train_x.parquet')"
   ]
  },
  {
   "cell_type": "code",
   "execution_count": 6,
   "id": "cf923346",
   "metadata": {},
   "outputs": [],
   "source": [
    "df = calc_visits(df)"
   ]
  },
  {
   "cell_type": "code",
   "execution_count": 7,
   "id": "af53e13c",
   "metadata": {},
   "outputs": [],
   "source": [
    "df['pv_2_wgt_1'] = df['pv_2_wgt_1'].astype('float32')\n",
    "df['pv_2_wgt_2'] = df['pv_2_wgt_2'].astype('float32')"
   ]
  },
  {
   "cell_type": "code",
   "execution_count": 8,
   "id": "5cfc8fe5",
   "metadata": {},
   "outputs": [],
   "source": [
    "df.to_parquet('./data/candidates/train/pv_2/cand.parquet')"
   ]
  },
  {
   "cell_type": "code",
   "execution_count": 9,
   "id": "a90f291a",
   "metadata": {},
   "outputs": [],
   "source": [
    "!mkdir -p ./data/candidates/sub/pv_2/"
   ]
  },
  {
   "cell_type": "code",
   "execution_count": 10,
   "id": "8867557d",
   "metadata": {},
   "outputs": [],
   "source": [
    "df = cudf.read_parquet('../../data/test.parquet')"
   ]
  },
  {
   "cell_type": "code",
   "execution_count": 11,
   "id": "149756a1",
   "metadata": {},
   "outputs": [],
   "source": [
    "df = calc_visits(df)"
   ]
  },
  {
   "cell_type": "code",
   "execution_count": 12,
   "id": "3753307a",
   "metadata": {},
   "outputs": [],
   "source": [
    "df['pv_2_wgt_1'] = df['pv_2_wgt_1'].astype('float32')\n",
    "df['pv_2_wgt_2'] = df['pv_2_wgt_2'].astype('float32')"
   ]
  },
  {
   "cell_type": "code",
   "execution_count": 13,
   "id": "287b9c54",
   "metadata": {},
   "outputs": [],
   "source": [
    "df.to_parquet('./data/candidates/sub/pv_2/cand.parquet')"
   ]
  },
  {
   "cell_type": "code",
   "execution_count": 14,
   "id": "a03d865b",
   "metadata": {},
   "outputs": [],
   "source": [
    "!cp -r ./data/candidates/train/pv_2/ ./data_folds/fold_0/candidates/train/pv_2/\n",
    "!cp -r ./data/candidates/train/pv_2/ ./data_folds/fold_1/candidates/train/pv_2/\n",
    "!cp -r ./data/candidates/train/pv_2/ ./data_folds/fold_2/candidates/train/pv_2/\n",
    "!cp -r ./data/candidates/train/pv_2/ ./data_folds/fold_3/candidates/train/pv_2/\n",
    "!cp -r ./data/candidates/train/pv_2/ ./data_folds/fold_4/candidates/train/pv_2/"
   ]
  },
  {
   "cell_type": "code",
   "execution_count": 16,
   "id": "d8f87bb2",
   "metadata": {},
   "outputs": [],
   "source": [
    "!cp -r ./data/candidates/sub/pv_2/ ./data_folds/fold_0/candidates/sub/pv_2/\n",
    "!cp -r ./data/candidates/sub/pv_2/ ./data_folds/fold_1/candidates/sub/pv_2/\n",
    "!cp -r ./data/candidates/sub/pv_2/ ./data_folds/fold_2/candidates/sub/pv_2/\n",
    "!cp -r ./data/candidates/sub/pv_2/ ./data_folds/fold_3/candidates/sub/pv_2/\n",
    "!cp -r ./data/candidates/sub/pv_2/ ./data_folds/fold_4/candidates/sub/pv_2/"
   ]
  },
  {
   "cell_type": "code",
   "execution_count": null,
   "id": "ce53a059",
   "metadata": {},
   "outputs": [],
   "source": []
  }
 ],
 "metadata": {
  "kernelspec": {
   "display_name": "Python 3 (ipykernel)",
   "language": "python",
   "name": "python3"
  },
  "language_info": {
   "codemirror_mode": {
    "name": "ipython",
    "version": 3
   },
   "file_extension": ".py",
   "mimetype": "text/x-python",
   "name": "python",
   "nbconvert_exporter": "python",
   "pygments_lexer": "ipython3",
   "version": "3.8.10"
  }
 },
 "nbformat": 4,
 "nbformat_minor": 5
}
