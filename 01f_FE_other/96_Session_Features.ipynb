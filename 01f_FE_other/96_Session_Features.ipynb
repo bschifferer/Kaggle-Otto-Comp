{
 "cells": [
  {
   "cell_type": "code",
   "execution_count": 1,
   "id": "c3ca6660",
   "metadata": {},
   "outputs": [],
   "source": [
    "import os\n",
    "\n",
    "os.environ[\"CUDA_VISIBLE_DEVICES\"]=\"1\"\n",
    "\n",
    "import cudf"
   ]
  },
  {
   "cell_type": "code",
   "execution_count": 2,
   "id": "bd967bb7",
   "metadata": {},
   "outputs": [],
   "source": [
    "df = cudf.read_parquet(\n",
    "    './data/xgb_train_x.parquet'\n",
    ")\n",
    "#df = cudf.read_parquet('../../data/test.parquet')"
   ]
  },
  {
   "cell_type": "code",
   "execution_count": 3,
   "id": "c0f0daad",
   "metadata": {},
   "outputs": [],
   "source": [
    "df1 = df.groupby(['session']).aid.count().reset_index().rename(columns={'aid': 'num_aid'})"
   ]
  },
  {
   "cell_type": "code",
   "execution_count": 4,
   "id": "3045e504",
   "metadata": {},
   "outputs": [],
   "source": [
    "df2 = df[['session', 'aid']].drop_duplicates().groupby(['session']).aid.count().reset_index().rename(columns={'aid': 'num_u_aid'})"
   ]
  },
  {
   "cell_type": "code",
   "execution_count": 5,
   "id": "428831cc",
   "metadata": {},
   "outputs": [],
   "source": [
    "df3 = df[['session', 'ts']].groupby(['session']).agg(['min', 'max']).reset_index()\n",
    "df3.columns = ['session', 'min', 'max']\n",
    "df3['diff'] = df3['max']-df3['min']\n",
    "df3.drop(['min', 'max'], axis=1, inplace=True)"
   ]
  },
  {
   "cell_type": "code",
   "execution_count": 6,
   "id": "ca6c0539",
   "metadata": {},
   "outputs": [],
   "source": [
    "df4 = df.sort_values(['session', 'ts'], ascending=[True, False])\n",
    "df4['ts_2'] = df4.groupby(['session']).ts.shift(1)\n",
    "df4['diff_'] = df4['ts_2']-df4['ts']\n",
    "df4['diff_'] = ((df4['diff_']/1000)>(4*60*60)).fillna(0).astype('int8')\n",
    "df4['new_session'] = df4.groupby(['session']).diff_.cumsum()\n",
    "df4.drop(['ts_2', 'diff_'], axis=1, inplace=True)\n",
    "df5 = df4[['session', 'new_session']].drop_duplicates().groupby(['session']).agg(['max']).reset_index()\n",
    "df5.columns  = ['session', 'num_sessions']\n",
    "\n",
    "df6 = df4[df4['new_session']==0].groupby(['session']).aid.count().reset_index().rename(columns={'aid': 'num_aid_fs'})\n",
    "df7 = df4[df4['new_session']==0][['session', 'aid']].drop_duplicates().groupby(['session']).aid.count().reset_index().rename(columns={'aid': 'num_u_aid_fs'})"
   ]
  },
  {
   "cell_type": "code",
   "execution_count": 7,
   "id": "74254189",
   "metadata": {},
   "outputs": [],
   "source": [
    "df8 = df[df['type']=='clicks'].groupby(['session']).aid.count().reset_index().rename(columns={'aid': 'num_aid_cl'})\n",
    "df9 = df[df['type']=='carts'].groupby(['session']).aid.count().reset_index().rename(columns={'aid': 'num_aid_ca'})\n",
    "df10 = df[df['type']=='orders'].groupby(['session']).aid.count().reset_index().rename(columns={'aid': 'num_aid_co'})"
   ]
  },
  {
   "cell_type": "code",
   "execution_count": 8,
   "id": "2197645f",
   "metadata": {},
   "outputs": [],
   "source": [
    "df11 = df[df['type']=='clicks'][['session', 'aid']].drop_duplicates().groupby(['session']).aid.count().reset_index().rename(columns={'aid': 'num_u_aid_cl'})\n",
    "df12 = df[df['type']=='carts'][['session', 'aid']].drop_duplicates().groupby(['session']).aid.count().reset_index().rename(columns={'aid': 'num_u_aid_ca'})\n",
    "df13 = df[df['type']=='orders'][['session', 'aid']].drop_duplicates().groupby(['session']).aid.count().reset_index().rename(columns={'aid': 'num_u_aid_co'})"
   ]
  },
  {
   "cell_type": "code",
   "execution_count": 9,
   "id": "6328e852",
   "metadata": {},
   "outputs": [],
   "source": [
    "df14 = df4[df4['type']=='clicks'].groupby(['session']).aid.count().reset_index().rename(columns={'aid': 'num_aid_cl_fs'})\n",
    "df15 = df4[df4['type']=='carts'].groupby(['session']).aid.count().reset_index().rename(columns={'aid': 'num_aid_ca_fs'})\n",
    "df16 = df4[df4['type']=='orders'].groupby(['session']).aid.count().reset_index().rename(columns={'aid': 'num_aid_co_fs'})"
   ]
  },
  {
   "cell_type": "code",
   "execution_count": 10,
   "id": "6e28cf1a",
   "metadata": {},
   "outputs": [],
   "source": [
    "df17 = df4[df4['type']=='clicks'][['session', 'aid']].drop_duplicates().groupby(['session']).aid.count().reset_index().rename(columns={'aid': 'num_u_aid_cl_fs'})\n",
    "df18 = df4[df4['type']=='carts'][['session', 'aid']].drop_duplicates().groupby(['session']).aid.count().reset_index().rename(columns={'aid': 'num_u_aid_ca_fs'})\n",
    "df19 = df4[df4['type']=='orders'][['session', 'aid']].drop_duplicates().groupby(['session']).aid.count().reset_index().rename(columns={'aid': 'num_u_aid_co_fs'})"
   ]
  },
  {
   "cell_type": "code",
   "execution_count": 11,
   "id": "644e6df3",
   "metadata": {},
   "outputs": [],
   "source": [
    "dfs = [\n",
    "    df2,\n",
    "    df3,\n",
    "    df5,\n",
    "    df6,\n",
    "    df7,\n",
    "    df8,\n",
    "    df9,\n",
    "    df10,\n",
    "    df11,\n",
    "    df12,\n",
    "    df13,\n",
    "    df14,\n",
    "    df15,\n",
    "    df16,\n",
    "    df17,\n",
    "    df18,\n",
    "    df19\n",
    "]"
   ]
  },
  {
   "cell_type": "code",
   "execution_count": 12,
   "id": "e2dec92f",
   "metadata": {},
   "outputs": [],
   "source": [
    "for df_tmp in dfs:\n",
    "    df1 = df1.merge(\n",
    "        df_tmp,\n",
    "        how='left',\n",
    "        on=['session']\n",
    "    ).fillna(0)"
   ]
  },
  {
   "cell_type": "code",
   "execution_count": 13,
   "id": "bb5b0e1d",
   "metadata": {},
   "outputs": [],
   "source": [
    "df1.to_parquet('./data/train_sessions.parquet')\n",
    "#df1.to_parquet('./data/sub_sessions.parquet')"
   ]
  },
  {
   "cell_type": "code",
   "execution_count": null,
   "id": "dd5fc399",
   "metadata": {},
   "outputs": [],
   "source": []
  }
 ],
 "metadata": {
  "kernelspec": {
   "display_name": "Python 3 (ipykernel)",
   "language": "python",
   "name": "python3"
  },
  "language_info": {
   "codemirror_mode": {
    "name": "ipython",
    "version": 3
   },
   "file_extension": ".py",
   "mimetype": "text/x-python",
   "name": "python",
   "nbconvert_exporter": "python",
   "pygments_lexer": "ipython3",
   "version": "3.8.10"
  }
 },
 "nbformat": 4,
 "nbformat_minor": 5
}
