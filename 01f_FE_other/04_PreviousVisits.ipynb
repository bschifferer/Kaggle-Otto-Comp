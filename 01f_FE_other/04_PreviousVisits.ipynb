{
 "cells": [
  {
   "cell_type": "code",
   "execution_count": 1,
   "id": "3c0885d9",
   "metadata": {},
   "outputs": [
    {
     "data": {
      "text/plain": [
       "0"
      ]
     },
     "execution_count": 1,
     "metadata": {},
     "output_type": "execute_result"
    }
   ],
   "source": [
    "import os\n",
    "\n",
    "os.environ[\"CUDA_VISIBLE_DEVICES\"]=\"0\"\n",
    "igfold = 0\n",
    "os.system('mkdir -p ./data_folds/fold_' + str(igfold))"
   ]
  },
  {
   "cell_type": "code",
   "execution_count": 2,
   "id": "7d771e06",
   "metadata": {},
   "outputs": [],
   "source": [
    "import cudf\n",
    "import numpy as np\n",
    "import gc\n",
    "\n",
    "import glob"
   ]
  },
  {
   "cell_type": "code",
   "execution_count": 3,
   "id": "a778beb1",
   "metadata": {},
   "outputs": [],
   "source": [
    "df_type = cudf.DataFrame({\n",
    "    'type': ['clicks', 'carts', 'orders'],\n",
    "    'type_': [1, 2, 3],\n",
    "    'type_mp': [1, 6, 3]\n",
    "})\n"
   ]
  },
  {
   "cell_type": "code",
   "execution_count": 4,
   "id": "b24ff57e",
   "metadata": {},
   "outputs": [],
   "source": [
    "def calc_visits(df):\n",
    "    df = df.merge(\n",
    "        df_type,\n",
    "        how='left',\n",
    "        on='type'\n",
    "    )\n",
    "    df['session'] = df['session'].astype('int32')\n",
    "    df['aid'] = df['aid'].astype('int32')\n",
    "    df.ts = (df.ts/1000).astype('int32')\n",
    "    df.drop(['type'], axis=1, inplace=True)\n",
    "    df = df.rename(columns={'type_': 'type'})\n",
    "    df = df.merge(\n",
    "        df[['session']].groupby(['session']).size().reset_index().rename(columns={0: 'session_len'}),\n",
    "        how='left',\n",
    "        on='session'\n",
    "    )\n",
    "    df = df.merge(\n",
    "        df[['session', 'ts']].groupby(['session']).max().reset_index().rename(columns={'ts': 'ts_max'}),\n",
    "        how='left',\n",
    "        on='session'\n",
    "    )\n",
    "    df = df.sort_values(['session', 'ts'], ascending=[True, False])\n",
    "    df['dummy'] = 1\n",
    "    df['rank'] = df.groupby(['session']).dummy.cumsum()\n",
    "    df.drop(['dummy'], axis=1, inplace=True)\n",
    "    min_val = (2 ** 0.1-1)\n",
    "    max_val = (2 ** 1-1)\n",
    "    df['wgt_1'] = (min_val+(max_val-min_val)*(df['rank']-1)/(df['session_len']))*df['type_mp']\n",
    "    min_val = (2 ** 0.5-1)\n",
    "    max_val = (2 ** 1-1)\n",
    "    df['wgt_2'] = (min_val+(max_val-min_val)*(df['rank']-1)/(df['session_len']))*df['type_mp']\n",
    "    df['ts_diff'] = df['ts_max']-df['ts']\n",
    "    df['clicks'] = (df['type']==1).astype('int')\n",
    "    df['carts'] = (df['type']==2).astype('int')\n",
    "    df['orders'] = (df['type']==3).astype('int')\n",
    "    df = df[\n",
    "        ['session', 'aid', 'ts_diff', 'rank', 'wgt_1', 'wgt_2', 'clicks', 'carts', 'orders']\n",
    "    ].groupby([\n",
    "        'session', 'aid',\n",
    "    ]).agg({\n",
    "        'ts_diff': 'min',\n",
    "        'rank': 'min',\n",
    "        'wgt_1': 'sum',\n",
    "        'wgt_2': 'sum',\n",
    "        'clicks': 'sum',\n",
    "        'carts': 'sum',\n",
    "        'orders': 'sum'\n",
    "    }).reset_index().rename(columns={\n",
    "        'rank': 'rev_order', 'wgt_1': 'pv_wgt_1', 'wgt_2': 'pv_wgt_2', 'aid': 'cand'\n",
    "    })\n",
    "    return(df)"
   ]
  },
  {
   "cell_type": "code",
   "execution_count": 5,
   "id": "5541eaff",
   "metadata": {},
   "outputs": [],
   "source": [
    "!mkdir -p ./data/candidates/train/pv/"
   ]
  },
  {
   "cell_type": "code",
   "execution_count": 6,
   "id": "18e49fa3",
   "metadata": {},
   "outputs": [],
   "source": [
    "df = cudf.read_parquet('./data/xgb_train_x.parquet')"
   ]
  },
  {
   "cell_type": "code",
   "execution_count": 7,
   "id": "cf923346",
   "metadata": {},
   "outputs": [],
   "source": [
    "df = calc_visits(df)"
   ]
  },
  {
   "cell_type": "code",
   "execution_count": 8,
   "id": "af53e13c",
   "metadata": {},
   "outputs": [],
   "source": [
    "df['pv_wgt_1'] = df['pv_wgt_1'].astype('float32')\n",
    "df['pv_wgt_2'] = df['pv_wgt_2'].astype('float32')\n",
    "df['rev_order'] = df['rev_order'].astype('int16')\n",
    "df['clicks'] = df['clicks'].astype('int16')\n",
    "df['carts'] = df['carts'].astype('int16')\n",
    "df['orders'] = df['orders'].astype('int16')"
   ]
  },
  {
   "cell_type": "code",
   "execution_count": 9,
   "id": "5cfc8fe5",
   "metadata": {},
   "outputs": [],
   "source": [
    "df.to_parquet('./data/candidates/train/pv/cand.parquet')"
   ]
  },
  {
   "cell_type": "code",
   "execution_count": 10,
   "id": "a90f291a",
   "metadata": {},
   "outputs": [],
   "source": [
    "!mkdir -p ./data/candidates/sub/pv/"
   ]
  },
  {
   "cell_type": "code",
   "execution_count": 11,
   "id": "8867557d",
   "metadata": {},
   "outputs": [],
   "source": [
    "df = cudf.read_parquet('../../data/test.parquet')"
   ]
  },
  {
   "cell_type": "code",
   "execution_count": 12,
   "id": "149756a1",
   "metadata": {},
   "outputs": [],
   "source": [
    "df = calc_visits(df)"
   ]
  },
  {
   "cell_type": "code",
   "execution_count": 13,
   "id": "3753307a",
   "metadata": {},
   "outputs": [],
   "source": [
    "df['pv_wgt_1'] = df['pv_wgt_1'].astype('float32')\n",
    "df['pv_wgt_2'] = df['pv_wgt_2'].astype('float32')\n",
    "df['rev_order'] = df['rev_order'].astype('int16')\n",
    "df['clicks'] = df['clicks'].astype('int16')\n",
    "df['carts'] = df['carts'].astype('int16')\n",
    "df['orders'] = df['orders'].astype('int16')"
   ]
  },
  {
   "cell_type": "code",
   "execution_count": 14,
   "id": "287b9c54",
   "metadata": {},
   "outputs": [],
   "source": [
    "df.to_parquet('./data/candidates/sub/pv/cand.parquet')"
   ]
  },
  {
   "cell_type": "code",
   "execution_count": 15,
   "id": "a03d865b",
   "metadata": {},
   "outputs": [],
   "source": [
    "!cp -r ./data/candidates/train/pv/ ./data_folds/fold_0/candidates/train/pv/\n",
    "!cp -r ./data/candidates/train/pv/ ./data_folds/fold_1/candidates/train/pv/\n",
    "!cp -r ./data/candidates/train/pv/ ./data_folds/fold_2/candidates/train/pv/\n",
    "!cp -r ./data/candidates/train/pv/ ./data_folds/fold_3/candidates/train/pv/\n",
    "!cp -r ./data/candidates/train/pv/ ./data_folds/fold_4/candidates/train/pv/"
   ]
  },
  {
   "cell_type": "code",
   "execution_count": 16,
   "id": "1c9071f6",
   "metadata": {},
   "outputs": [],
   "source": [
    "!cp -r ./data/candidates/sub/pv/ ./data_folds/fold_0/candidates/sub/pv/\n",
    "!cp -r ./data/candidates/sub/pv/ ./data_folds/fold_1/candidates/sub/pv/\n",
    "!cp -r ./data/candidates/sub/pv/ ./data_folds/fold_2/candidates/sub/pv/\n",
    "!cp -r ./data/candidates/sub/pv/ ./data_folds/fold_3/candidates/sub/pv/\n",
    "!cp -r ./data/candidates/sub/pv/ ./data_folds/fold_4/candidates/sub/pv/"
   ]
  },
  {
   "cell_type": "code",
   "execution_count": null,
   "id": "9e022135",
   "metadata": {},
   "outputs": [],
   "source": []
  }
 ],
 "metadata": {
  "kernelspec": {
   "display_name": "Python 3 (ipykernel)",
   "language": "python",
   "name": "python3"
  },
  "language_info": {
   "codemirror_mode": {
    "name": "ipython",
    "version": 3
   },
   "file_extension": ".py",
   "mimetype": "text/x-python",
   "name": "python",
   "nbconvert_exporter": "python",
   "pygments_lexer": "ipython3",
   "version": "3.8.10"
  }
 },
 "nbformat": 4,
 "nbformat_minor": 5
}
