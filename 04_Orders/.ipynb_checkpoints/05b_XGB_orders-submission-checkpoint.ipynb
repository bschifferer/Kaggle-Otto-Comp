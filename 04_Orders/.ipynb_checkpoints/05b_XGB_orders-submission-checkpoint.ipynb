{
 "cells": [
  {
   "cell_type": "code",
   "execution_count": 2,
   "id": "f1932484",
   "metadata": {},
   "outputs": [],
   "source": [
    "import os\n",
    "\n",
    "os.environ[\"CUDA_VISIBLE_DEVICES\"]=\"0\""
   ]
  },
  {
   "cell_type": "code",
   "execution_count": 3,
   "id": "4c1f513e",
   "metadata": {},
   "outputs": [],
   "source": [
    "import cudf\n",
    "import glob\n",
    "import gc\n",
    "\n",
    "import pandas as pd\n",
    "\n",
    "from tqdm import tqdm"
   ]
  },
  {
   "cell_type": "code",
   "execution_count": 4,
   "id": "08393145",
   "metadata": {},
   "outputs": [],
   "source": [
    "def calc_recall(sub, ty='clicks', file='./data/xgb_train_y.parquet'):\n",
    "    sub = sub.sort_values(['session', 'score'], ascending=[True, False])\n",
    "    sub['dummy'] = 1\n",
    "    sub['rank'] = sub.groupby(['session']).dummy.cumsum()\n",
    "    sub.drop(['dummy'], axis=1, inplace=True)\n",
    "    sub = sub[sub['rank']<21]\n",
    "    sub = sub[['session', 'cand']]\n",
    "    sub.columns = ['session', 'aid']\n",
    "    test_labels = cudf.read_parquet(file)\n",
    "    test_labels = test_labels[test_labels['type']==ty]\n",
    "    test_labels = test_labels.merge(\n",
    "        test_labels.groupby(['session', 'type']).count().reset_index().rename(columns={'aid': 'no_gt'}),\n",
    "        how='left',\n",
    "        on=['session', 'type']\n",
    "    )\n",
    "    sub['target'] = 1\n",
    "    sub.columns = ['session', 'aid', 'target']\n",
    "    test_labels = test_labels.merge(\n",
    "        sub[['session', 'aid', 'target']].drop_duplicates(['session', 'aid']),\n",
    "        how='left',\n",
    "        on=['session', 'aid']\n",
    "\n",
    "    )\n",
    "    test_labels['target'] = test_labels['target'].fillna(0)\n",
    "    test_labels = test_labels[test_labels['session'].isin(sub['session'])]\n",
    "    test_labels = test_labels.groupby(['session', 'aid']).agg({'no_gt': 'min', 'target': 'sum'}).reset_index()\n",
    "    recall = test_labels.target.sum()/test_labels.groupby(['session']).no_gt.min().clip(0,20).sum()\n",
    "    print(recall)\n",
    "    return(recall, test_labels.target.sum(), test_labels.groupby(['session']).no_gt.min().clip(0,20).sum())"
   ]
  },
  {
   "cell_type": "code",
   "execution_count": 5,
   "id": "f4769748",
   "metadata": {},
   "outputs": [
    {
     "name": "stdout",
     "output_type": "stream",
     "text": [
      "ls: cannot access './data/split/chunks_c/': No such file or directory\r\n"
     ]
    }
   ],
   "source": [
    "!ls ./data/split/chunks_c/"
   ]
  },
  {
   "cell_type": "code",
   "execution_count": 7,
   "id": "19f5dc3a",
   "metadata": {},
   "outputs": [],
   "source": [
    "import xgboost as xgb\n",
    "\n",
    "xgb_parms = { \n",
    "    'max_depth':8, \n",
    "    'learning_rate':0.1, \n",
    "    'subsample':0.8,\n",
    "    'colsample_bytree':0.3, \n",
    "    'eval_metric':'logloss',\n",
    "    'objective':'binary:logistic',\n",
    "    'tree_method':'gpu_hist' \n",
    "}\n",
    "\n",
    "bl_sub = True\n",
    "bl_pos = True\n",
    "outputfolder = '24_XGB_Rerun_RedruceCandidate_DifferentWeights_Folds_ChrisCo_SameDay_v9'\n",
    "no_seeds = 10\n",
    "no_trees = 345"
   ]
  },
  {
   "cell_type": "code",
   "execution_count": 8,
   "id": "9f30261e",
   "metadata": {},
   "outputs": [],
   "source": [
    "ty = 'orders'\n",
    "labels = cudf.read_parquet('./data/xgb_train_y.parquet')\n",
    "labels.columns = ['session', 'cand', 'type']\n",
    "labels['target'] = 1"
   ]
  },
  {
   "cell_type": "code",
   "execution_count": 9,
   "id": "a6febe9a",
   "metadata": {},
   "outputs": [
    {
     "data": {
      "text/plain": [
       "['./data/split/chunks/orders/chunk_0.parquet',\n",
       " './data/split/chunks/orders/chunk_1.parquet']"
      ]
     },
     "execution_count": 9,
     "metadata": {},
     "output_type": "execute_result"
    }
   ],
   "source": [
    "files = sorted(glob.glob('./data/split/chunks/' + ty + '/chunk*.parquet'))\n",
    "files"
   ]
  },
  {
   "cell_type": "code",
   "execution_count": 10,
   "id": "2ce662ef",
   "metadata": {
    "scrolled": true
   },
   "outputs": [
    {
     "data": {
      "text/plain": [
       "['./data_folds/fold_0/split/chunks/orders/chunk_0.parquet',\n",
       " './data_folds/fold_0/split/chunks/orders/chunk_1.parquet',\n",
       " './data_folds/fold_1/split/chunks/orders/chunk_0.parquet',\n",
       " './data_folds/fold_1/split/chunks/orders/chunk_1.parquet',\n",
       " './data_folds/fold_2/split/chunks/orders/chunk_0.parquet',\n",
       " './data_folds/fold_2/split/chunks/orders/chunk_1.parquet',\n",
       " './data_folds/fold_3/split/chunks/orders/chunk_0.parquet',\n",
       " './data_folds/fold_3/split/chunks/orders/chunk_1.parquet',\n",
       " './data_folds/fold_4/split/chunks/orders/chunk_0.parquet',\n",
       " './data_folds/fold_4/split/chunks/orders/chunk_1.parquet']"
      ]
     },
     "execution_count": 10,
     "metadata": {},
     "output_type": "execute_result"
    }
   ],
   "source": [
    "[y for x in [\n",
    "    sorted(glob.glob('./data_folds/fold_' + str(igfold2) + '/split/chunks/' + ty + '/chunk*.parquet'))\n",
    "    for igfold2 in range(0,5)\n",
    "] for y in x ]"
   ]
  },
  {
   "cell_type": "code",
   "execution_count": 11,
   "id": "fc283a61",
   "metadata": {},
   "outputs": [],
   "source": [
    "session_filter = labels[(labels['type']=='orders')]['session'].drop_duplicates().to_pandas().tolist()"
   ]
  },
  {
   "cell_type": "code",
   "execution_count": 12,
   "id": "efd42f59",
   "metadata": {},
   "outputs": [],
   "source": [
    "ingore_cols = []"
   ]
  },
  {
   "cell_type": "code",
   "execution_count": null,
   "id": "fc994466",
   "metadata": {},
   "outputs": [],
   "source": [
    "%%time\n",
    "\n",
    "models = []\n",
    "hist_recall = []\n",
    "total_no_hit = 0\n",
    "total_no_gt = 0\n",
    "for igfold in range(1):\n",
    "    files = ['x']\n",
    "    print(files)\n",
    "    for ifile, file in enumerate(files):\n",
    "        if bl_sub:\n",
    "            if ty == 'clicks':\n",
    "                test_files = []\n",
    "                train_files = [files[x] for x in [(ifile+i+1)%len(files) for i in range(len(files))]]\n",
    "            elif ty == 'carts':\n",
    "                test_files = []\n",
    "                train_files = [files[x] for x in [(ifile+i+1)%len(files) for i in range(len(files))]]\n",
    "            elif ty == 'orders':\n",
    "                test_files = []\n",
    "                train_files = [files[x] for x in [(ifile+i+1)%len(files) for i in range(len(files))]]\n",
    "            else:\n",
    "                assert 0!=0\n",
    "            \n",
    "            train_files = sorted([\n",
    "                y for x in [\n",
    "                    sorted(glob.glob('./data_folds/fold_' + str(igfold2) + '/split/chunks_c_2/' + ty + '/chunk*.parquet'))\n",
    "                    for igfold2 in range(0,5)\n",
    "                ] for y in x\n",
    "            ])\n",
    "            \n",
    "#            step=5\n",
    "#            train_files_list = []\n",
    "#            for i in range(0, len(train_files), step):\n",
    "#                x = i\n",
    "#                train_files_list.append(train_files[x:x+step])\n",
    "#            train_files = train_files_list[ifile]\n",
    "#            print(train_files)\n",
    "            \n",
    "            if ty == 'clicks':\n",
    "                df_train = pd.concat([\n",
    "                    pd.read_parquet(x) for x in train_files\n",
    "                ])\n",
    "            elif ty == 'carts':\n",
    "                df_train = pd.concat([\n",
    "                    pd.read_parquet(x) for x in train_files\n",
    "                ])\n",
    "            elif ty == 'orders':\n",
    "                df_train = pd.concat([\n",
    "                    pd.read_parquet(x) for x in train_files\n",
    "                ])\n",
    "            #df_train = df_train[~(df_train['session'].isin(session_filter))]\n",
    "\n",
    "        print(train_files)\n",
    "        print(test_files)\n",
    "\n",
    "        if bl_pos:\n",
    "            df_train = df_train[df_train['session'].isin(\n",
    "                df_train[df_train['target']==1]['session'].drop_duplicates().values\n",
    "            )]\n",
    "\n",
    "        train_cols = [x for x in df_train.columns if x not in [\n",
    "            'session', 'cand', 'target', 'target_clicks', 'target_carts', 'target_orders'\n",
    "        ] + ingore_cols]\n",
    "\n",
    "        print('Recall Train: ' + str(df_train[df_train['target']==1].shape[0]/labels[\n",
    "        (labels['session'].isin(df_train['session'].drop_duplicates()))&(labels['type']==ty)\n",
    "    ].shape[0]))\n",
    "        if not bl_sub:\n",
    "            print('Recall Test: ' + str(df_test[df_test['target']==1].shape[0]/labels[\n",
    "            (labels['session'].isin(df_test['session'].drop_duplicates()))&(labels['type']==ty)\n",
    "        ].shape[0]))\n",
    "\n",
    "        dtrain = xgb.DMatrix(data=df_train[train_cols].values,label=df_train['target'].values)\n",
    "        if not bl_sub:\n",
    "            dtest =  xgb.DMatrix(data=df_test[train_cols].values, label=df_test['target'].values)\n",
    "            df_test['score'] = 0.0\n",
    "\n",
    "        del df_train\n",
    "        gc.collect()\n",
    "\n",
    "        for iseed in range(no_seeds):\n",
    "            print('iseed: ' + str(iseed))\n",
    "            xgb_parms['seed'] = iseed\n",
    "            if bl_sub:\n",
    "                model = xgb.train(\n",
    "                    xgb_parms, \n",
    "                    dtrain=dtrain,\n",
    "                    evals=[(dtrain,'train')],\n",
    "                    num_boost_round=no_trees,\n",
    "                    verbose_eval=10\n",
    "                )\n",
    "            else:\n",
    "                model = xgb.train(\n",
    "                    xgb_parms, \n",
    "                    dtrain=dtrain,\n",
    "                    evals=[(dtest,'test')],\n",
    "                    num_boost_round=no_trees,\n",
    "                    verbose_eval=10,\n",
    "                    early_stopping_rounds=50\n",
    "                )\n",
    "                df_test['score'] += model.predict(dtest)\n",
    "            models.append(model)\n",
    "        del dtrain\n",
    "        \n",
    "        if bl_sub:\n",
    "            for igfold2 in range(5):\n",
    "                for isubfile, sub_file in enumerate(glob.glob('./data_folds/fold_' + str(igfold2) + '/split/sub_c_2/*.parquet')):\n",
    "                    print('isubfile: ' + str(isubfile))\n",
    "                    df_sub = cudf.read_parquet(sub_file).fillna(-999)\n",
    "                    df_sub['score'] = 0.0\n",
    "                    dsub = xgb.DMatrix(data=df_sub[train_cols].values)\n",
    "                    for iseed in range(no_seeds):\n",
    "                        df_sub['score_' + str(iseed)] = models[iseed].predict(dsub)\n",
    "                    iseed = 0\n",
    "                    os.system('mkdir -p ../00_submissions/' + outputfolder)\n",
    "                    df_sub[['session', 'cand'] + ['score_' + str(ij) for ij in range(no_seeds)]].to_parquet(\n",
    "                        '../00_submissions/' + outputfolder + '/sub_' + str(igfold2) + '_' + ty + '_' + str(ifile) + '_' + str(isubfile) + '.parquet'\n",
    "                    )\n",
    "                    del df_sub\n",
    "                    gc.collect()\n",
    "            del model\n",
    "            gc.collect()\n",
    "\n",
    "        gc.collect()"
   ]
  }
 ],
 "metadata": {
  "kernelspec": {
   "display_name": "Python 3 (ipykernel)",
   "language": "python",
   "name": "python3"
  },
  "language_info": {
   "codemirror_mode": {
    "name": "ipython",
    "version": 3
   },
   "file_extension": ".py",
   "mimetype": "text/x-python",
   "name": "python",
   "nbconvert_exporter": "python",
   "pygments_lexer": "ipython3",
   "version": "3.8.10"
  }
 },
 "nbformat": 4,
 "nbformat_minor": 5
}
