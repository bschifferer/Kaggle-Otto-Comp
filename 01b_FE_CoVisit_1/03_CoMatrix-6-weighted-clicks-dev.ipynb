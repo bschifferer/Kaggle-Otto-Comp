{
 "cells": [
  {
   "cell_type": "code",
   "execution_count": 1,
   "id": "ee3fd1aa",
   "metadata": {},
   "outputs": [
    {
     "data": {
      "text/plain": [
       "0"
      ]
     },
     "execution_count": 1,
     "metadata": {},
     "output_type": "execute_result"
    }
   ],
   "source": [
    "import os\n",
    "\n",
    "os.environ[\"CUDA_VISIBLE_DEVICES\"]=\"0\"\n",
    "igfold = 3\n",
    "os.system('mkdir -p ./data_folds/fold_' + str(igfold))"
   ]
  },
  {
   "cell_type": "code",
   "execution_count": 2,
   "id": "c6cdb6ca",
   "metadata": {},
   "outputs": [
    {
     "name": "stdout",
     "output_type": "stream",
     "text": [
      "Fri Jan 13 13:33:44 2023       \n",
      "+-----------------------------------------------------------------------------+\n",
      "| NVIDIA-SMI 450.119.04   Driver Version: 450.119.04   CUDA Version: 11.7     |\n",
      "|-------------------------------+----------------------+----------------------+\n",
      "| GPU  Name        Persistence-M| Bus-Id        Disp.A | Volatile Uncorr. ECC |\n",
      "| Fan  Temp  Perf  Pwr:Usage/Cap|         Memory-Usage | GPU-Util  Compute M. |\n",
      "|                               |                      |               MIG M. |\n",
      "|===============================+======================+======================|\n",
      "|   0  Tesla V100-SXM2...  On   | 00000000:85:00.0 Off |                    0 |\n",
      "| N/A   39C    P0    71W / 163W |      0MiB / 32510MiB |      0%      Default |\n",
      "|                               |                      |                  N/A |\n",
      "+-------------------------------+----------------------+----------------------+\n",
      "|   1  Tesla V100-SXM2...  On   | 00000000:8A:00.0 Off |                    0 |\n",
      "| N/A   36C    P0    45W / 163W |      0MiB / 32510MiB |      0%      Default |\n",
      "|                               |                      |                  N/A |\n",
      "+-------------------------------+----------------------+----------------------+\n",
      "                                                                               \n",
      "+-----------------------------------------------------------------------------+\n",
      "| Processes:                                                                  |\n",
      "|  GPU   GI   CI        PID   Type   Process name                  GPU Memory |\n",
      "|        ID   ID                                                   Usage      |\n",
      "|=============================================================================|\n",
      "|  No running processes found                                                 |\n",
      "+-----------------------------------------------------------------------------+\n"
     ]
    }
   ],
   "source": [
    "!nvidia-smi"
   ]
  },
  {
   "cell_type": "code",
   "execution_count": 3,
   "id": "0dd54a93",
   "metadata": {},
   "outputs": [],
   "source": [
    "import cudf\n",
    "import glob\n",
    "import gc\n",
    "\n",
    "from tqdm import tqdm"
   ]
  },
  {
   "cell_type": "code",
   "execution_count": 4,
   "id": "0c383e27",
   "metadata": {},
   "outputs": [],
   "source": [
    "lb = False\n",
    "path = '../data/'\n",
    "type_weight = {0:1, 1:6, 2:3}\n",
    "no_files = 3\n",
    "path = '../../data/'\n",
    "    \n",
    "df_type = cudf.DataFrame({\n",
    "    'type': ['clicks', 'carts', 'orders'],\n",
    "    'type_': [0, 1, 2]\n",
    "})\n",
    "\n",
    "def list_in_chunks(files, no_chunks=10):\n",
    "    out = [[] for _ in range(no_chunks)]\n",
    "    for i, file in enumerate(files):\n",
    "        out[i%no_chunks].append(file)\n",
    "    return(out)"
   ]
  },
  {
   "cell_type": "code",
   "execution_count": 5,
   "id": "e4fc5e92",
   "metadata": {},
   "outputs": [],
   "source": [
    "# !rm -rf ./data/\n",
    "!mkdir -p ./data/"
   ]
  },
  {
   "cell_type": "code",
   "execution_count": 6,
   "id": "658f63cb",
   "metadata": {},
   "outputs": [],
   "source": [
    "files = sorted(\n",
    "    glob.glob('../../data/' + '/train/interim/*.parquet')\n",
    ")\n",
    "files_split = [glob.glob('../../data/test.parquet')] + [glob.glob('./data/xgb_train_x.parquet')] + list_in_chunks(files, no_chunks=len(files)//no_files)"
   ]
  },
  {
   "cell_type": "code",
   "execution_count": 7,
   "id": "4a9e0999",
   "metadata": {},
   "outputs": [
    {
     "data": {
      "text/plain": [
       "45"
      ]
     },
     "execution_count": 7,
     "metadata": {},
     "output_type": "execute_result"
    }
   ],
   "source": [
    "len(files_split)"
   ]
  },
  {
   "cell_type": "code",
   "execution_count": 8,
   "id": "f5f28750",
   "metadata": {},
   "outputs": [
    {
     "name": "stdout",
     "output_type": "stream",
     "text": [
      "356747\n"
     ]
    }
   ],
   "source": [
    "import pickle\n",
    "\n",
    "sessions = pickle.load(open('./data/sessions_eval.pickle', 'rb'))\n",
    "if igfold == 0:\n",
    "    sess_eval = sessions[0]+sessions[1]\n",
    "elif igfold == 1:\n",
    "    sess_eval = sessions[2]+sessions[3]\n",
    "elif igfold == 2:\n",
    "    sess_eval = sessions[4]+sessions[5]\n",
    "elif igfold == 3:\n",
    "    sess_eval = sessions[6]+sessions[7]\n",
    "elif igfold == 4:\n",
    "    sess_eval = sessions[8]+sessions[9]\n",
    "print(len(sess_eval))"
   ]
  },
  {
   "cell_type": "markdown",
   "id": "2bab4cb0",
   "metadata": {},
   "source": [
    "### 3) \"Clicks\" Co-visitation Matrix - Time Weighted"
   ]
  },
  {
   "cell_type": "code",
   "execution_count": 9,
   "id": "722c8175",
   "metadata": {},
   "outputs": [],
   "source": [
    "!rm -r /tmp/data/tmp2\n",
    "!mkdir -p /tmp/data/tmp2/split"
   ]
  },
  {
   "cell_type": "code",
   "execution_count": 10,
   "id": "caadc43f",
   "metadata": {},
   "outputs": [],
   "source": [
    "import cupy"
   ]
  },
  {
   "cell_type": "code",
   "execution_count": 11,
   "id": "369b80e8",
   "metadata": {},
   "outputs": [
    {
     "name": "stderr",
     "output_type": "stream",
     "text": [
      "1it [00:03,  3.08s/it]"
     ]
    },
    {
     "name": "stdout",
     "output_type": "stream",
     "text": [
      "['./data/xgb_train_x.parquet']\n"
     ]
    },
    {
     "name": "stderr",
     "output_type": "stream",
     "text": [
      "45it [01:43,  2.31s/it]\n"
     ]
    }
   ],
   "source": [
    "out = []\n",
    "for e, file in tqdm(enumerate(files_split)):\n",
    "    df = cudf.read_parquet(file)\n",
    "    df = df.merge(\n",
    "        df_type,\n",
    "        how='left',\n",
    "        on='type'\n",
    "    )\n",
    "    if any([True for x in file if 'xgb_train_x.parquet' in x]):\n",
    "        print(file)\n",
    "        df = df[df['session'].isin(sess_eval)]\n",
    "    else:\n",
    "        df = df.loc[~(df['session'].isin(sess_eval))]\n",
    "    df = df.sort_values(['session', 'ts'], ascending=[True, False])\n",
    "    df['ts_2'] = df.groupby(['session']).ts.shift(1)\n",
    "    df['diff_'] = df['ts_2']-df['ts']\n",
    "    df['diff_'] = ((df['diff_']/1000)>(1*60*60)).fillna(0).astype('int8')\n",
    "    df['new_session'] = df.groupby(['session']).diff_.cumsum()\n",
    "    df.drop(['ts_2', 'diff_'], axis=1, inplace=True)\n",
    "    df['session'] = df['session']*100+df['new_session']\n",
    "    df.drop(['new_session'], axis=1, inplace=True)\n",
    "\n",
    "    df['session'] = df['session'].astype('int32')\n",
    "    df['aid'] = df['aid'].astype('int32')\n",
    "    df.ts = (df.ts/1000).astype('int32')\n",
    "    df.drop(['type'], axis=1, inplace=True)\n",
    "    df = df.rename(columns={'type_': 'type'})\n",
    "    df = df[df['type']==0]\n",
    "    df = df.merge(\n",
    "        df[['session']].groupby(['session']).size().reset_index().rename(columns={0: 'session_len'}),\n",
    "        how='left',\n",
    "        on=['session']\n",
    "    )\n",
    "    df['session_len'] = df['session_len'].astype('int16')\n",
    "    df = df.sort_values(['session','ts'],ascending=[True,False])\n",
    "    df = df.reset_index(drop=True)\n",
    "    df['n'] = df.groupby('session').cumcount()\n",
    "    df['n'] = df['n'].astype('int16')\n",
    "    df.drop(['type'], axis=1, inplace=True)\n",
    "    df = df.reset_index(drop=True)\n",
    "    df = df.merge(\n",
    "        df[['session', 'aid', 'ts', 'n']], \n",
    "        how='left',\n",
    "        on='session'\n",
    "    )\n",
    "    \n",
    "    df = df[df['n_x']!=df['n_y']]\n",
    "    df = df[df['ts_x']!=df['ts_y']]\n",
    "    df = df[\n",
    "        ((df['ts_x']-df['ts_y']).abs()>30)|(df['aid_x']!=df['aid_y'])\n",
    "    ]\n",
    "    df = df[(df['aid_x']!=df['aid_y'])]\n",
    "    df['diff_time'] = (df['ts_x']-df['ts_y']).abs()\n",
    "    df.drop(['ts_x', 'ts_y'], axis=1, inplace=True)\n",
    "    df['w_time'] = 1/cupy.log(df['diff_time']+2)\n",
    "    df.drop(['diff_time'], inplace=True, axis=1)\n",
    "\n",
    "    df['diff_pos'] = (df['n_x']-df['n_y']).abs()\n",
    "    df['w_pos'] = 1/cupy.log(df['diff_pos']+2)\n",
    "    df.drop(['diff_pos'], inplace=True, axis=1)\n",
    "\n",
    "    df['w_sess'] = 1/cupy.log(df['session_len']+2)\n",
    "    df.drop(['session_len'], inplace=True, axis=1)\n",
    "\n",
    "    df['wgt'] = df['w_time']*df['w_pos']*df['w_sess']*(df['n_x']!=df['n_y']).astype('float32')\n",
    "    \n",
    "    df = df[['aid_x','aid_y','wgt']]\n",
    "    \n",
    "    gc.collect()\n",
    "    df.wgt = df.wgt.astype('float32')\n",
    "    df = df.groupby(['aid_x','aid_y']).wgt.agg(['sum', 'count']).reset_index()\n",
    "    df = df[df['count']>1]\n",
    "    df.to_parquet('/tmp/data/tmp2/split/split_' + str(e) + '.parquet')\n",
    "    del df\n",
    "    gc.collect()"
   ]
  },
  {
   "cell_type": "code",
   "execution_count": 12,
   "id": "ec1846db",
   "metadata": {},
   "outputs": [
    {
     "name": "stdout",
     "output_type": "stream",
     "text": [
      "/tmp/data/tmp2/split/split_9.parquet\n",
      "/tmp/data/tmp2/split/split_36.parquet\n",
      "/tmp/data/tmp2/split/split_39.parquet\n",
      "/tmp/data/tmp2/split/split_25.parquet\n",
      "/tmp/data/tmp2/split/split_24.parquet\n",
      "/tmp/data/tmp2/split/split_6.parquet\n",
      "/tmp/data/tmp2/split/split_28.parquet\n",
      "/tmp/data/tmp2/split/split_35.parquet\n",
      "/tmp/data/tmp2/split/split_11.parquet\n",
      "/tmp/data/tmp2/split/split_14.parquet\n",
      "/tmp/data/tmp2/split/split_32.parquet\n",
      "/tmp/data/tmp2/split/split_44.parquet\n",
      "/tmp/data/tmp2/split/split_31.parquet\n",
      "/tmp/data/tmp2/split/split_42.parquet\n",
      "/tmp/data/tmp2/split/split_12.parquet\n",
      "/tmp/data/tmp2/split/split_19.parquet\n",
      "/tmp/data/tmp2/split/split_34.parquet\n",
      "/tmp/data/tmp2/split/split_23.parquet\n",
      "/tmp/data/tmp2/split/split_16.parquet\n",
      "/tmp/data/tmp2/split/split_37.parquet\n",
      "/tmp/data/tmp2/split/split_30.parquet\n",
      "/tmp/data/tmp2/split/split_22.parquet\n",
      "/tmp/data/tmp2/split/split_29.parquet\n",
      "/tmp/data/tmp2/split/split_27.parquet\n",
      "/tmp/data/tmp2/split/split_13.parquet\n",
      "/tmp/data/tmp2/split/split_20.parquet\n",
      "/tmp/data/tmp2/split/split_0.parquet\n",
      "/tmp/data/tmp2/split/split_18.parquet\n",
      "/tmp/data/tmp2/split/split_7.parquet\n",
      "/tmp/data/tmp2/split/split_3.parquet\n",
      "/tmp/data/tmp2/split/split_2.parquet\n",
      "/tmp/data/tmp2/split/split_5.parquet\n",
      "/tmp/data/tmp2/split/split_17.parquet\n",
      "/tmp/data/tmp2/split/split_10.parquet\n",
      "/tmp/data/tmp2/split/split_21.parquet\n",
      "/tmp/data/tmp2/split/split_40.parquet\n",
      "/tmp/data/tmp2/split/split_4.parquet\n",
      "/tmp/data/tmp2/split/split_1.parquet\n",
      "/tmp/data/tmp2/split/split_41.parquet\n",
      "/tmp/data/tmp2/split/split_33.parquet\n",
      "/tmp/data/tmp2/split/split_15.parquet\n",
      "/tmp/data/tmp2/split/split_8.parquet\n",
      "/tmp/data/tmp2/split/split_43.parquet\n",
      "/tmp/data/tmp2/split/split_26.parquet\n"
     ]
    }
   ],
   "source": [
    "files_split = glob.glob('/tmp/data/tmp2/split/split_*.parquet')\n",
    "df = cudf.read_parquet(files_split[0])\n",
    "for file in files_split[1:]:\n",
    "    print(file)\n",
    "    df2 = cudf.read_parquet(file)\n",
    "    df = cudf.concat([\n",
    "        df,\n",
    "        df2\n",
    "    ])\n",
    "    gc.collect()\n",
    "    df = df.groupby(['aid_x','aid_y']).sum()\n",
    "    df = df.reset_index()\n",
    "    del df2\n",
    "    gc.collect()"
   ]
  },
  {
   "cell_type": "code",
   "execution_count": 13,
   "id": "0af36eca",
   "metadata": {},
   "outputs": [
    {
     "name": "stdout",
     "output_type": "stream",
     "text": [
      "./data/xgb_train_x.parquet\n"
     ]
    }
   ],
   "source": [
    "files = sorted(glob.glob('../../data/' + '/train/interim/*.parquet')) + glob.glob('../../data/test.parquet') + glob.glob('./data/xgb_train_x.parquet')\n",
    "out = []\n",
    "for file in files:\n",
    "    df_tmp = cudf.read_parquet(file)\n",
    "    if 'xgb_train_x.parquet' in file:\n",
    "        print(file)\n",
    "        df_tmp = df_tmp[df_tmp['session'].isin(sess_eval)]\n",
    "    else:\n",
    "        df_tmp = df_tmp[~(df_tmp['session'].isin(sess_eval))]\n",
    "    out.append(df_tmp)"
   ]
  },
  {
   "cell_type": "code",
   "execution_count": 14,
   "id": "495a84d2",
   "metadata": {},
   "outputs": [
    {
     "data": {
      "text/plain": [
       "0"
      ]
     },
     "execution_count": 14,
     "metadata": {},
     "output_type": "execute_result"
    }
   ],
   "source": [
    "df_aid = cudf.concat(out)\n",
    "del out\n",
    "gc.collect()"
   ]
  },
  {
   "cell_type": "code",
   "execution_count": 15,
   "id": "19511b51",
   "metadata": {},
   "outputs": [],
   "source": [
    "df_aid = df_aid['aid'].value_counts().reset_index()\n",
    "df_aid = df_aid.reset_index()\n",
    "df_aid.columns = ['aid_', 'aid', 'count']\n",
    "df_aid.drop(['aid_'], inplace=True, axis=1)"
   ]
  },
  {
   "cell_type": "code",
   "execution_count": 16,
   "id": "1d6ff971",
   "metadata": {},
   "outputs": [],
   "source": [
    "df_aid.columns = ['aid_x', 'count_x']\n",
    "df = df.merge(\n",
    "    df_aid,\n",
    "    how='left',\n",
    "    on='aid_x'\n",
    ")\n",
    "df_aid.columns = ['aid_y', 'count_y']\n",
    "df = df.merge(\n",
    "    df_aid,\n",
    "    how='left',\n",
    "    on='aid_y'\n",
    ")"
   ]
  },
  {
   "cell_type": "code",
   "execution_count": 17,
   "id": "0c325393",
   "metadata": {},
   "outputs": [
    {
     "data": {
      "text/plain": [
       "25"
      ]
     },
     "execution_count": 17,
     "metadata": {},
     "output_type": "execute_result"
    }
   ],
   "source": [
    "del df_aid\n",
    "gc.collect()"
   ]
  },
  {
   "cell_type": "code",
   "execution_count": 18,
   "id": "ea30fdd2",
   "metadata": {},
   "outputs": [],
   "source": [
    "df = df.reset_index(drop=True)"
   ]
  },
  {
   "cell_type": "code",
   "execution_count": 19,
   "id": "2744f65d",
   "metadata": {},
   "outputs": [
    {
     "data": {
      "text/html": [
       "<div>\n",
       "<style scoped>\n",
       "    .dataframe tbody tr th:only-of-type {\n",
       "        vertical-align: middle;\n",
       "    }\n",
       "\n",
       "    .dataframe tbody tr th {\n",
       "        vertical-align: top;\n",
       "    }\n",
       "\n",
       "    .dataframe thead th {\n",
       "        text-align: right;\n",
       "    }\n",
       "</style>\n",
       "<table border=\"1\" class=\"dataframe\">\n",
       "  <thead>\n",
       "    <tr style=\"text-align: right;\">\n",
       "      <th></th>\n",
       "      <th>aid_x</th>\n",
       "      <th>aid_y</th>\n",
       "      <th>sum</th>\n",
       "      <th>count</th>\n",
       "      <th>count_x</th>\n",
       "      <th>count_y</th>\n",
       "    </tr>\n",
       "  </thead>\n",
       "  <tbody>\n",
       "    <tr>\n",
       "      <th>0</th>\n",
       "      <td>334325</td>\n",
       "      <td>1019736</td>\n",
       "      <td>0.125056</td>\n",
       "      <td>2</td>\n",
       "      <td>3023</td>\n",
       "      <td>29423</td>\n",
       "    </tr>\n",
       "    <tr>\n",
       "      <th>1</th>\n",
       "      <td>480362</td>\n",
       "      <td>763063</td>\n",
       "      <td>0.049614</td>\n",
       "      <td>4</td>\n",
       "      <td>132</td>\n",
       "      <td>121</td>\n",
       "    </tr>\n",
       "    <tr>\n",
       "      <th>2</th>\n",
       "      <td>1718422</td>\n",
       "      <td>472478</td>\n",
       "      <td>0.066710</td>\n",
       "      <td>4</td>\n",
       "      <td>410</td>\n",
       "      <td>551</td>\n",
       "    </tr>\n",
       "    <tr>\n",
       "      <th>3</th>\n",
       "      <td>784887</td>\n",
       "      <td>1695413</td>\n",
       "      <td>0.079596</td>\n",
       "      <td>2</td>\n",
       "      <td>6798</td>\n",
       "      <td>28121</td>\n",
       "    </tr>\n",
       "    <tr>\n",
       "      <th>4</th>\n",
       "      <td>1008756</td>\n",
       "      <td>1228666</td>\n",
       "      <td>0.111463</td>\n",
       "      <td>16</td>\n",
       "      <td>58</td>\n",
       "      <td>735</td>\n",
       "    </tr>\n",
       "    <tr>\n",
       "      <th>...</th>\n",
       "      <td>...</td>\n",
       "      <td>...</td>\n",
       "      <td>...</td>\n",
       "      <td>...</td>\n",
       "      <td>...</td>\n",
       "      <td>...</td>\n",
       "    </tr>\n",
       "    <tr>\n",
       "      <th>335569839</th>\n",
       "      <td>1451845</td>\n",
       "      <td>1502103</td>\n",
       "      <td>0.059438</td>\n",
       "      <td>2</td>\n",
       "      <td>63</td>\n",
       "      <td>324</td>\n",
       "    </tr>\n",
       "    <tr>\n",
       "      <th>335569840</th>\n",
       "      <td>1259743</td>\n",
       "      <td>776056</td>\n",
       "      <td>0.039153</td>\n",
       "      <td>2</td>\n",
       "      <td>721</td>\n",
       "      <td>13</td>\n",
       "    </tr>\n",
       "    <tr>\n",
       "      <th>335569841</th>\n",
       "      <td>1124603</td>\n",
       "      <td>856880</td>\n",
       "      <td>0.023536</td>\n",
       "      <td>4</td>\n",
       "      <td>1438</td>\n",
       "      <td>17</td>\n",
       "    </tr>\n",
       "    <tr>\n",
       "      <th>335569842</th>\n",
       "      <td>768777</td>\n",
       "      <td>946621</td>\n",
       "      <td>0.017826</td>\n",
       "      <td>2</td>\n",
       "      <td>130</td>\n",
       "      <td>8632</td>\n",
       "    </tr>\n",
       "    <tr>\n",
       "      <th>335569843</th>\n",
       "      <td>811098</td>\n",
       "      <td>414966</td>\n",
       "      <td>0.008498</td>\n",
       "      <td>2</td>\n",
       "      <td>413</td>\n",
       "      <td>396</td>\n",
       "    </tr>\n",
       "  </tbody>\n",
       "</table>\n",
       "<p>335569844 rows × 6 columns</p>\n",
       "</div>"
      ],
      "text/plain": [
       "             aid_x    aid_y       sum  count  count_x  count_y\n",
       "0           334325  1019736  0.125056      2     3023    29423\n",
       "1           480362   763063  0.049614      4      132      121\n",
       "2          1718422   472478  0.066710      4      410      551\n",
       "3           784887  1695413  0.079596      2     6798    28121\n",
       "4          1008756  1228666  0.111463     16       58      735\n",
       "...            ...      ...       ...    ...      ...      ...\n",
       "335569839  1451845  1502103  0.059438      2       63      324\n",
       "335569840  1259743   776056  0.039153      2      721       13\n",
       "335569841  1124603   856880  0.023536      4     1438       17\n",
       "335569842   768777   946621  0.017826      2      130     8632\n",
       "335569843   811098   414966  0.008498      2      413      396\n",
       "\n",
       "[335569844 rows x 6 columns]"
      ]
     },
     "execution_count": 19,
     "metadata": {},
     "output_type": "execute_result"
    }
   ],
   "source": [
    "df"
   ]
  },
  {
   "cell_type": "code",
   "execution_count": 20,
   "id": "8aa65e36",
   "metadata": {},
   "outputs": [
    {
     "data": {
      "text/plain": [
       "165"
      ]
     },
     "execution_count": 20,
     "metadata": {},
     "output_type": "execute_result"
    }
   ],
   "source": [
    "gc.collect()"
   ]
  },
  {
   "cell_type": "code",
   "execution_count": 21,
   "id": "7d693bdc",
   "metadata": {},
   "outputs": [],
   "source": [
    "import cupy"
   ]
  },
  {
   "cell_type": "code",
   "execution_count": 22,
   "id": "c4828a43",
   "metadata": {},
   "outputs": [],
   "source": [
    "df['wgt'] = df['sum']/(cupy.sqrt((df['count_x'].fillna(0)+1).values)*cupy.sqrt((df['count_y'].fillna(0)+1).values))"
   ]
  },
  {
   "cell_type": "code",
   "execution_count": 23,
   "id": "0537164b",
   "metadata": {},
   "outputs": [],
   "source": [
    "df.drop(['sum', 'count_x', 'count_y'], axis=1, inplace=True)"
   ]
  },
  {
   "cell_type": "code",
   "execution_count": 24,
   "id": "9a3f9836",
   "metadata": {},
   "outputs": [],
   "source": [
    "df_pd = df.to_pandas()"
   ]
  },
  {
   "cell_type": "code",
   "execution_count": 25,
   "id": "f3b59ead",
   "metadata": {},
   "outputs": [],
   "source": [
    "df_pd.to_parquet('./data_folds/fold_' + str(igfold) + '/top_20_recsys2022_weighted_v5.parquet')"
   ]
  },
  {
   "cell_type": "code",
   "execution_count": 26,
   "id": "80ab3792",
   "metadata": {},
   "outputs": [
    {
     "data": {
      "text/plain": [
       "0"
      ]
     },
     "execution_count": 26,
     "metadata": {},
     "output_type": "execute_result"
    }
   ],
   "source": [
    "del df, df_pd\n",
    "gc.collect()"
   ]
  },
  {
   "cell_type": "markdown",
   "id": "bfa4ce6d",
   "metadata": {},
   "source": [
    "### Generate Candidates"
   ]
  },
  {
   "cell_type": "code",
   "execution_count": 9,
   "id": "d8d5ee55",
   "metadata": {},
   "outputs": [
    {
     "name": "stdout",
     "output_type": "stream",
     "text": [
      "Fri Jan 13 13:33:51 2023       \n",
      "+-----------------------------------------------------------------------------+\n",
      "| NVIDIA-SMI 450.119.04   Driver Version: 450.119.04   CUDA Version: 11.7     |\n",
      "|-------------------------------+----------------------+----------------------+\n",
      "| GPU  Name        Persistence-M| Bus-Id        Disp.A | Volatile Uncorr. ECC |\n",
      "| Fan  Temp  Perf  Pwr:Usage/Cap|         Memory-Usage | GPU-Util  Compute M. |\n",
      "|                               |                      |               MIG M. |\n",
      "|===============================+======================+======================|\n",
      "|   0  Tesla V100-SXM2...  On   | 00000000:85:00.0 Off |                    0 |\n",
      "| N/A   39C    P0    71W / 163W |    646MiB / 32510MiB |      0%      Default |\n",
      "|                               |                      |                  N/A |\n",
      "+-------------------------------+----------------------+----------------------+\n",
      "|   1  Tesla V100-SXM2...  On   | 00000000:8A:00.0 Off |                    0 |\n",
      "| N/A   36C    P0    45W / 163W |      0MiB / 32510MiB |      0%      Default |\n",
      "|                               |                      |                  N/A |\n",
      "+-------------------------------+----------------------+----------------------+\n",
      "                                                                               \n",
      "+-----------------------------------------------------------------------------+\n",
      "| Processes:                                                                  |\n",
      "|  GPU   GI   CI        PID   Type   Process name                  GPU Memory |\n",
      "|        ID   ID                                                   Usage      |\n",
      "|=============================================================================|\n",
      "+-----------------------------------------------------------------------------+\n"
     ]
    }
   ],
   "source": [
    "!nvidia-smi"
   ]
  },
  {
   "cell_type": "code",
   "execution_count": 10,
   "id": "95c0a32e",
   "metadata": {},
   "outputs": [],
   "source": [
    "import cudf\n",
    "import numpy as np\n",
    "import gc\n",
    "import os\n",
    "\n",
    "import glob"
   ]
  },
  {
   "cell_type": "code",
   "execution_count": 11,
   "id": "20ec88a6",
   "metadata": {},
   "outputs": [],
   "source": [
    "def get_candidates(df, co, prefix, treshhold=2, treshhold_topn=15):\n",
    "    df = df.merge(\n",
    "        co[co['n']<treshhold_topn][['aid', 'cand', 'wgt', 'count']],\n",
    "        how='left',\n",
    "        on='aid'\n",
    "    )\n",
    "    df['wgt'] = df['wgt'].fillna(0)\n",
    "    df['count'] = df['count'].fillna(0)\n",
    "    df.drop(['aid', 'ts', 'type'], axis=1, inplace=True)\n",
    "    df['wgt1'] = df['wgt'].values\n",
    "    df['count1'] = df['count'].values\n",
    "    df = df.groupby(['session', 'cand']).agg({\n",
    "        'dummy': 'sum',\n",
    "        'wgt': 'sum',\n",
    "        'wgt1': 'max',\n",
    "        'count': 'sum',\n",
    "        'count1': 'max'\n",
    "    }).reset_index()\n",
    "    df.columns = [\n",
    "        'session', 'cand', \n",
    "        prefix+'_num_' + str(treshhold_topn),\n",
    "        prefix+'_wgt_' + str(treshhold_topn),\n",
    "        prefix+'_wgt_max_' + str(treshhold_topn),\n",
    "        prefix+'_count_' + str(treshhold_topn),\n",
    "        prefix+'_count_max_' + str(treshhold_topn),\n",
    "    ]\n",
    "    return(df)\n",
    "\n",
    "def list_in_chunks(files, no_chunks=10):\n",
    "    out = [[] for _ in range(no_chunks)]\n",
    "    for i, file in enumerate(files):\n",
    "        out[i%no_chunks].append(file)\n",
    "    return(out)"
   ]
  },
  {
   "cell_type": "code",
   "execution_count": 12,
   "id": "86c715ec",
   "metadata": {},
   "outputs": [],
   "source": [
    "prefix = 'weighted'"
   ]
  },
  {
   "cell_type": "code",
   "execution_count": 13,
   "id": "357f2c0f",
   "metadata": {},
   "outputs": [
    {
     "name": "stdout",
     "output_type": "stream",
     "text": [
      "train 30\n",
      "sub 30\n"
     ]
    }
   ],
   "source": [
    "for dataset in ['train', 'sub']:\n",
    "    for treshhold_topn in [30]:\n",
    "        print(dataset, treshhold_topn)\n",
    "        os.system('mkdir -p ./data_folds/fold_' + str(igfold) + '/candidates/' + dataset + '/' + prefix + '_' + str(treshhold_topn))\n",
    "        co = cudf.read_parquet('./data_folds/fold_' + str(igfold) + '/top_20_recsys2022_weighted_v5.parquet')[['aid_x', 'aid_y', 'wgt', 'count']]\n",
    "        co = co.sort_values(['aid_x','wgt'],ascending=[True,False])\n",
    "        co = co.reset_index(drop=True)\n",
    "        co['n'] = co.groupby('aid_x').aid_y.cumcount()\n",
    "        co.columns = ['aid', 'cand', 'wgt', 'count', 'n']\n",
    "        if dataset == 'train':\n",
    "            df = cudf.read_parquet('./data/xgb_train_x.parquet')\n",
    "            df = df[df['session'].isin(sess_eval)]\n",
    "        else:\n",
    "            df = cudf.read_parquet('../../data/test.parquet')\n",
    "        df = df.sort_values(['session', 'ts'], ascending=[True, False])\n",
    "        df['dummy'] = 1\n",
    "        df['rank'] = df.groupby(['session']).dummy.cumsum()\n",
    "        df['score'] = 1/df['rank']\n",
    "        session_lists = list_in_chunks(df['session'].drop_duplicates().to_pandas().values.tolist(), no_chunks=10)\n",
    "        out = []\n",
    "        for session_list in session_lists:\n",
    "            df_tmp = df[df['session'].isin(session_list)]\n",
    "            df_tmp = get_candidates(df_tmp, co, prefix, treshhold=2, treshhold_topn=treshhold_topn)\n",
    "            out.append(df_tmp)\n",
    "        df = cudf.concat(out)\n",
    "        df['session'] = df['session'].astype('int32')\n",
    "        df['cand'] = df['cand'].astype('int32')\n",
    "        df[prefix + '_num_'+ str(treshhold_topn)] = df[prefix + '_num_'+ str(treshhold_topn)].astype('int16')\n",
    "        df[prefix + '_wgt_'+ str(treshhold_topn)] = df[prefix + '_wgt_'+ str(treshhold_topn)].astype('float32')\n",
    "        df[prefix + '_wgt_max_'+ str(treshhold_topn)] = df[prefix + '_wgt_max_'+ str(treshhold_topn)].astype('float32')\n",
    "        df[prefix + '_count_'+ str(treshhold_topn)] = df[prefix + '_count_'+ str(treshhold_topn)].astype('float32')\n",
    "        df[prefix + '_count_max_'+ str(treshhold_topn)] = df[prefix + '_count_max_'+ str(treshhold_topn)].astype('float32')\n",
    "        df.to_parquet('./data_folds/fold_' + str(igfold) + '/candidates/' + dataset + '/' + prefix + '_' + str(treshhold_topn) + '/cand.parquet')\n",
    "        del df\n",
    "        gc.collect()"
   ]
  },
  {
   "cell_type": "code",
   "execution_count": null,
   "id": "e69af972",
   "metadata": {},
   "outputs": [],
   "source": []
  },
  {
   "cell_type": "code",
   "execution_count": null,
   "id": "83234290",
   "metadata": {},
   "outputs": [],
   "source": []
  }
 ],
 "metadata": {
  "kernelspec": {
   "display_name": "Python 3 (ipykernel)",
   "language": "python",
   "name": "python3"
  },
  "language_info": {
   "codemirror_mode": {
    "name": "ipython",
    "version": 3
   },
   "file_extension": ".py",
   "mimetype": "text/x-python",
   "name": "python",
   "nbconvert_exporter": "python",
   "pygments_lexer": "ipython3",
   "version": "3.8.10"
  }
 },
 "nbformat": 4,
 "nbformat_minor": 5
}
