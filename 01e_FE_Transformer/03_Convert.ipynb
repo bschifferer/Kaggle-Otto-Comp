{
 "cells": [
  {
   "cell_type": "code",
   "execution_count": 1,
   "id": "755dfe12",
   "metadata": {},
   "outputs": [],
   "source": [
    "import cudf\n",
    "import os"
   ]
  },
  {
   "cell_type": "code",
   "execution_count": null,
   "id": "cc093d77",
   "metadata": {},
   "outputs": [],
   "source": [
    "e = 3\n",
    "\n",
    "df_score = cudf.read_parquet(\n",
    "    './data/t4r/train_pred/pred_' + str(e) + '/score.parquet'\n",
    ").rename(columns={'value': 't4r_score'})\n",
    "df_rec = cudf.read_parquet(\n",
    "    './data/t4r/train_pred/pred_' + str(e) + '/rec.parquet'\n",
    ").rename(columns={'value': 'cand'})\n",
    "\n",
    "df = df_rec.merge(\n",
    "    df_score,\n",
    "    how='left',\n",
    "    on=['session', 'order']\n",
    ")\n",
    "df.rename(columns={'order': 't4r_rank'})\n",
    "\n",
    "for igfold in range(5):\n",
    "    os.system('mkdir -p ../data_folds/fold_' + str(igfold) + '/candidates/train/t4r/')\n",
    "    df.to_parquet('../data_folds/fold_' + str(igfold) + '/candidates/train/t4r/cand.parquet')"
   ]
  },
  {
   "cell_type": "code",
   "execution_count": null,
   "id": "835348e4",
   "metadata": {},
   "outputs": [],
   "source": [
    "df_score = cudf.read_parquet(\n",
    "    './data/t4r/sub_pred/pred_' + str(e) + '/score.parquet'\n",
    ").rename(columns={'value': 't4r_score'})\n",
    "df_rec = cudf.read_parquet(\n",
    "    './data/t4r/sub_pred/pred_' + str(e) + '/rec.parquet'\n",
    ").rename(columns={'value': 'cand'})\n",
    "\n",
    "df = df_rec.merge(\n",
    "    df_score,\n",
    "    how='left',\n",
    "    on=['session', 'order']\n",
    ")\n",
    "df.rename(columns={'order': 't4r_rank'})\n",
    "\n",
    "for igfold in range(5):\n",
    "    os.system('mkdir -p ../data_folds/fold_' + str(igfold) + '/candidates/sub/t4r/')\n",
    "    df.to_parquet('../data_folds/fold_' + str(igfold) + '/candidates/sub/t4r/cand.parquet')"
   ]
  }
 ],
 "metadata": {
  "kernelspec": {
   "display_name": "Python 3 (ipykernel)",
   "language": "python",
   "name": "python3"
  },
  "language_info": {
   "codemirror_mode": {
    "name": "ipython",
    "version": 3
   },
   "file_extension": ".py",
   "mimetype": "text/x-python",
   "name": "python",
   "nbconvert_exporter": "python",
   "pygments_lexer": "ipython3",
   "version": "3.8.10"
  }
 },
 "nbformat": 4,
 "nbformat_minor": 5
}
