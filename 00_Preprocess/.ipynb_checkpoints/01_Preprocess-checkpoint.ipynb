{
 "cells": [
  {
   "cell_type": "code",
   "execution_count": 1,
   "id": "fedadb63",
   "metadata": {},
   "outputs": [
    {
     "name": "stdout",
     "output_type": "stream",
     "text": [
      "Collecting jsonlines\n",
      "  Downloading jsonlines-3.1.0-py3-none-any.whl (8.6 kB)\n",
      "Requirement already satisfied: attrs>=19.2.0 in /usr/local/lib/python3.8/dist-packages (from jsonlines) (22.1.0)\n",
      "Installing collected packages: jsonlines\n",
      "Successfully installed jsonlines-3.1.0\n"
     ]
    }
   ],
   "source": [
    "!pip install jsonlines"
   ]
  },
  {
   "cell_type": "code",
   "execution_count": 2,
   "id": "dd6a26aa",
   "metadata": {},
   "outputs": [],
   "source": [
    "import pandas as pd\n",
    "import jsonlines\n",
    "from tqdm import tqdm\n",
    "import datetime\n",
    "from glob import glob\n",
    "import gc"
   ]
  },
  {
   "cell_type": "code",
   "execution_count": 3,
   "id": "798abccd",
   "metadata": {},
   "outputs": [],
   "source": [
    "path = '../data/'"
   ]
  },
  {
   "cell_type": "markdown",
   "id": "fd7e4876",
   "metadata": {},
   "source": [
    "## LB Data"
   ]
  },
  {
   "cell_type": "code",
   "execution_count": 5,
   "id": "9a96e563",
   "metadata": {},
   "outputs": [],
   "source": [
    "!rm -rf $path/train/interim\n",
    "!mkdir -p $path/train/interim"
   ]
  },
  {
   "cell_type": "code",
   "execution_count": 6,
   "id": "a08f4e95",
   "metadata": {},
   "outputs": [
    {
     "name": "stderr",
     "output_type": "stream",
     "text": [
      "1671803it [00:30, 55334.07it/s]\n"
     ]
    }
   ],
   "source": [
    "data_dict = {'session': [], 'aid': [], 'ts': [], 'type': []}\n",
    "\n",
    "with jsonlines.open(path + '/test.jsonl') as reader:\n",
    "    for result in tqdm(reader):   \n",
    "        for event in result['events']:     \n",
    "            data_dict['session'].append(result['session'])\n",
    "            data_dict['aid'].append(event['aid'])\n",
    "            data_dict['ts'].append(event['ts'])\n",
    "            data_dict['type'].append(event['type'])"
   ]
  },
  {
   "cell_type": "code",
   "execution_count": 7,
   "id": "ee69424d",
   "metadata": {},
   "outputs": [],
   "source": [
    "data = pd.DataFrame.from_dict(data_dict)"
   ]
  },
  {
   "cell_type": "code",
   "execution_count": 8,
   "id": "27f10688",
   "metadata": {},
   "outputs": [
    {
     "data": {
      "text/plain": [
       "((6928123, 4), (1671803,))"
      ]
     },
     "execution_count": 8,
     "metadata": {},
     "output_type": "execute_result"
    }
   ],
   "source": [
    "data.shape, data['session'].drop_duplicates().shape"
   ]
  },
  {
   "cell_type": "code",
   "execution_count": 9,
   "id": "767e1554",
   "metadata": {},
   "outputs": [],
   "source": [
    "data.to_parquet(path + '/test.parquet')"
   ]
  },
  {
   "cell_type": "code",
   "execution_count": 10,
   "id": "5e59d349",
   "metadata": {},
   "outputs": [
    {
     "data": {
      "text/plain": [
       "0"
      ]
     },
     "execution_count": 10,
     "metadata": {},
     "output_type": "execute_result"
    }
   ],
   "source": [
    "del data\n",
    "gc.collect()"
   ]
  },
  {
   "cell_type": "code",
   "execution_count": 11,
   "id": "afca383b",
   "metadata": {},
   "outputs": [
    {
     "name": "stderr",
     "output_type": "stream",
     "text": [
      "129it [28:36, 13.31s/it]\n"
     ]
    }
   ],
   "source": [
    "chunksize = 100_000\n",
    "chunks = pd.read_json(path + '/train.jsonl', lines=True, chunksize=chunksize)\n",
    "\n",
    "for e, chunk in enumerate(tqdm(chunks)):\n",
    "    data_dict = {\n",
    "        'session': [],\n",
    "        'aid': [],\n",
    "        'ts': [],\n",
    "        'type': [],\n",
    "    }\n",
    "    \n",
    "    for session, events in zip(chunk['session'].tolist(), chunk['events'].tolist()):\n",
    "        for event in events:\n",
    "            data_dict['session'].append(session)\n",
    "            data_dict['aid'].append(event['aid'])\n",
    "            data_dict['ts'].append(event['ts'])\n",
    "            data_dict['type'].append(event['type'])\n",
    "            \n",
    "    df = pd.DataFrame(data_dict)\n",
    "    df.to_parquet(path + \"/train/interim/train_\" + str(e) + \".parquet\")\n",
    "    del df\n",
    "    gc.collect()"
   ]
  },
  {
   "cell_type": "code",
   "execution_count": 12,
   "id": "3dbf092a",
   "metadata": {},
   "outputs": [
    {
     "name": "stdout",
     "output_type": "stream",
     "text": [
      "du: cannot access '../../data//lb/interim': No such file or directory\r\n"
     ]
    }
   ],
   "source": [
    "!du -sh $path/lb/interim"
   ]
  },
  {
   "cell_type": "markdown",
   "id": "f438c51f",
   "metadata": {},
   "source": [
    "## CV Data"
   ]
  },
  {
   "cell_type": "code",
   "execution_count": 13,
   "id": "40625eee",
   "metadata": {},
   "outputs": [],
   "source": [
    "path = '../../preprocess/'"
   ]
  },
  {
   "cell_type": "code",
   "execution_count": 14,
   "id": "36dc4d28",
   "metadata": {},
   "outputs": [],
   "source": [
    "!rm -rf $path/train/interim\n",
    "!mkdir -p $path/train/interim"
   ]
  },
  {
   "cell_type": "code",
   "execution_count": 15,
   "id": "63a98356",
   "metadata": {},
   "outputs": [
    {
     "name": "stderr",
     "output_type": "stream",
     "text": [
      "1783737it [00:33, 52472.97it/s]\n"
     ]
    }
   ],
   "source": [
    "data_dict = {'session': [], 'aid': [], 'ts': [], 'type': []}\n",
    "\n",
    "with jsonlines.open(path + 'test_sessions.jsonl') as reader:\n",
    "    for result in tqdm(reader):   \n",
    "        for event in result['events']:     \n",
    "            data_dict['session'].append(result['session'])\n",
    "            data_dict['aid'].append(event['aid'])\n",
    "            data_dict['ts'].append(event['ts'])\n",
    "            data_dict['type'].append(event['type'])"
   ]
  },
  {
   "cell_type": "code",
   "execution_count": 16,
   "id": "2663a29b",
   "metadata": {},
   "outputs": [],
   "source": [
    "data = pd.DataFrame.from_dict(data_dict)"
   ]
  },
  {
   "cell_type": "code",
   "execution_count": 17,
   "id": "1bed212e",
   "metadata": {},
   "outputs": [],
   "source": [
    "data.to_parquet(path + '/test.parquet')"
   ]
  },
  {
   "cell_type": "code",
   "execution_count": 18,
   "id": "d52b9103",
   "metadata": {},
   "outputs": [
    {
     "name": "stderr",
     "output_type": "stream",
     "text": [
      "1783737it [00:54, 32761.99it/s]\n"
     ]
    }
   ],
   "source": [
    "data_dict = {'session': [], 'aid': [], 'ts': [], 'type': []}\n",
    "\n",
    "with jsonlines.open(path + '/test_sessions_full.jsonl') as reader:\n",
    "    for result in tqdm(reader):   \n",
    "        for event in result['events']:     \n",
    "            data_dict['session'].append(result['session'])\n",
    "            data_dict['aid'].append(event['aid'])\n",
    "            data_dict['ts'].append(event['ts'])\n",
    "            data_dict['type'].append(event['type'])"
   ]
  },
  {
   "cell_type": "code",
   "execution_count": 19,
   "id": "259c0df1",
   "metadata": {},
   "outputs": [],
   "source": [
    "data = pd.DataFrame.from_dict(data_dict)"
   ]
  },
  {
   "cell_type": "code",
   "execution_count": 20,
   "id": "a9eb40c2",
   "metadata": {},
   "outputs": [],
   "source": [
    "data.to_parquet(path + '/test_full.parquet')"
   ]
  },
  {
   "cell_type": "code",
   "execution_count": 21,
   "id": "eef87ee8",
   "metadata": {},
   "outputs": [
    {
     "name": "stderr",
     "output_type": "stream",
     "text": [
      "106it [22:05, 12.50s/it]\n"
     ]
    }
   ],
   "source": [
    "chunksize = 100_000\n",
    "chunks = pd.read_json(path + '/train_sessions.jsonl', lines=True, chunksize=chunksize)\n",
    "\n",
    "for e, chunk in enumerate(tqdm(chunks)):\n",
    "    data_dict = {\n",
    "        'session': [],\n",
    "        'aid': [],\n",
    "        'ts': [],\n",
    "        'type': [],\n",
    "    }\n",
    "    \n",
    "    for session, events in zip(chunk['session'].tolist(), chunk['events'].tolist()):\n",
    "        for event in events:\n",
    "            data_dict['session'].append(session)\n",
    "            data_dict['aid'].append(event['aid'])\n",
    "            data_dict['ts'].append(event['ts'])\n",
    "            data_dict['type'].append(event['type'])\n",
    "            \n",
    "    df = pd.DataFrame(data_dict)\n",
    "    df.to_parquet(path + \"/train/interim/train_\" + str(e) + \".parquet\")\n",
    "    del df\n",
    "    gc.collect()"
   ]
  },
  {
   "cell_type": "code",
   "execution_count": 22,
   "id": "f85dfc72",
   "metadata": {},
   "outputs": [
    {
     "name": "stderr",
     "output_type": "stream",
     "text": [
      "1783737it [00:17, 103185.99it/s]\n"
     ]
    }
   ],
   "source": [
    "data_dict = {'session': [], 'aid': [], 'type': []}\n",
    "\n",
    "with jsonlines.open(path + '/test_labels.jsonl') as reader:\n",
    "    for result in tqdm(reader):   \n",
    "        for event in result['labels'].keys():\n",
    "            aids = result['labels'][event]\n",
    "            if not isinstance(aids, list):\n",
    "                aids = [aids]\n",
    "            for aid in aids:\n",
    "                data_dict['session'].append(result['session'])\n",
    "                data_dict['aid'].append(aid)\n",
    "                data_dict['type'].append(event)"
   ]
  },
  {
   "cell_type": "code",
   "execution_count": 23,
   "id": "7e804ca4",
   "metadata": {},
   "outputs": [],
   "source": [
    "data = pd.DataFrame.from_dict(data_dict)"
   ]
  },
  {
   "cell_type": "code",
   "execution_count": 24,
   "id": "d0e40820",
   "metadata": {},
   "outputs": [],
   "source": [
    "data.to_parquet(path + '/test_labels.parquet')"
   ]
  }
 ],
 "metadata": {
  "kernelspec": {
   "display_name": "Python 3 (ipykernel)",
   "language": "python",
   "name": "python3"
  },
  "language_info": {
   "codemirror_mode": {
    "name": "ipython",
    "version": 3
   },
   "file_extension": ".py",
   "mimetype": "text/x-python",
   "name": "python",
   "nbconvert_exporter": "python",
   "pygments_lexer": "ipython3",
   "version": "3.8.10"
  }
 },
 "nbformat": 4,
 "nbformat_minor": 5
}
