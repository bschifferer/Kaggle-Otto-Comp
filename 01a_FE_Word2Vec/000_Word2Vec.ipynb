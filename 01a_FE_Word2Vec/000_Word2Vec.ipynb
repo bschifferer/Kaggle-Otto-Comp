{
 "cells": [
  {
   "cell_type": "code",
   "execution_count": 1,
   "id": "2dd76c93",
   "metadata": {},
   "outputs": [],
   "source": [
    "#!pip install gensim"
   ]
  },
  {
   "cell_type": "code",
   "execution_count": 2,
   "id": "14d0996b",
   "metadata": {},
   "outputs": [],
   "source": [
    "import os\n",
    "\n",
    "os.environ[\"CUDA_VISIBLE_DEVICES\"]=\"0\""
   ]
  },
  {
   "cell_type": "code",
   "execution_count": 3,
   "id": "92b1e966",
   "metadata": {},
   "outputs": [
    {
     "name": "stderr",
     "output_type": "stream",
     "text": [
      "/usr/lib/python3/dist-packages/requests/__init__.py:89: RequestsDependencyWarning: urllib3 (1.26.12) or chardet (3.0.4) doesn't match a supported version!\n",
      "  warnings.warn(\"urllib3 ({}) or chardet ({}) doesn't match a supported \"\n"
     ]
    }
   ],
   "source": [
    "import cudf\n",
    "import glob\n",
    "\n",
    "from gensim.test.utils import common_texts\n",
    "from gensim.models import Word2Vec"
   ]
  },
  {
   "cell_type": "code",
   "execution_count": 4,
   "id": "73fbd2ea",
   "metadata": {},
   "outputs": [
    {
     "name": "stdout",
     "output_type": "stream",
     "text": [
      "356748\n"
     ]
    }
   ],
   "source": [
    "import pickle\n",
    "\n",
    "igfold = 0\n",
    "sessions = pickle.load(open('./data/sessions_eval.pickle', 'rb'))\n",
    "if igfold == 0:\n",
    "    sess_eval = sessions[0]+sessions[1]\n",
    "elif igfold == 1:\n",
    "    sess_eval = sessions[2]+sessions[3]\n",
    "elif igfold == 2:\n",
    "    sess_eval = sessions[4]+sessions[5]\n",
    "elif igfold == 3:\n",
    "    sess_eval = sessions[6]+sessions[7]\n",
    "elif igfold == 4:\n",
    "    sess_eval = sessions[8]+sessions[9]\n",
    "print(len(sess_eval))"
   ]
  },
  {
   "cell_type": "code",
   "execution_count": 5,
   "id": "4703629f",
   "metadata": {},
   "outputs": [
    {
     "name": "stdout",
     "output_type": "stream",
     "text": [
      "./data/xgb_train_x.parquet\n"
     ]
    }
   ],
   "source": [
    "files_aid = sorted(glob.glob('../../data/' + '/train/interim/*.parquet')) + glob.glob('../../data/test.parquet') + glob.glob('./data/xgb_train_x.parquet')\n",
    "\n",
    "out = []\n",
    "for file in files_aid:\n",
    "    df_tmp = cudf.read_parquet(file)\n",
    "    if 'xgb_train_x.parquet' in file:\n",
    "        print(file)\n",
    "        df_tmp = df_tmp[df_tmp['session'].isin(sess_eval)]\n",
    "    else:\n",
    "        df_tmp = df_tmp[~(df_tmp['session'].isin(sess_eval))]\n",
    "    out.append(df_tmp)\n",
    "df = cudf.concat(out)"
   ]
  },
  {
   "cell_type": "code",
   "execution_count": 6,
   "id": "9f8295c1",
   "metadata": {},
   "outputs": [],
   "source": [
    "df = df.sort_values(['session', 'ts'])"
   ]
  },
  {
   "cell_type": "code",
   "execution_count": 7,
   "id": "32933951",
   "metadata": {},
   "outputs": [],
   "source": [
    "df = df[['session', 'aid']].groupby(['session']).agg(list)"
   ]
  },
  {
   "cell_type": "code",
   "execution_count": 8,
   "id": "15ec2802",
   "metadata": {},
   "outputs": [],
   "source": [
    "sentences = df['aid'].to_pandas().to_list()"
   ]
  },
  {
   "cell_type": "code",
   "execution_count": 9,
   "id": "d1accd10",
   "metadata": {},
   "outputs": [
    {
     "name": "stdout",
     "output_type": "stream",
     "text": [
      "CPU times: user 1min 10s, sys: 32.9 s, total: 1min 43s\n",
      "Wall time: 1min 43s\n"
     ]
    }
   ],
   "source": [
    "%%time\n",
    "\n",
    "sentences = [x.tolist() for x in sentences]"
   ]
  },
  {
   "cell_type": "code",
   "execution_count": 10,
   "id": "158d1922",
   "metadata": {},
   "outputs": [
    {
     "name": "stdout",
     "output_type": "stream",
     "text": [
      "CPU times: user 3h 20min 43s, sys: 1min 3s, total: 3h 21min 47s\n",
      "Wall time: 31min 34s\n"
     ]
    }
   ],
   "source": [
    "%%time\n",
    "\n",
    "w2vec = Word2Vec(\n",
    "    sentences=sentences, \n",
    "    vector_size=50, \n",
    "    epochs=5, \n",
    "    sg=1, \n",
    "    window=3, \n",
    "    sample=1e-3, \n",
    "    ns_exponent=1, \n",
    "    min_count=1, \n",
    "    workers=8\n",
    ")"
   ]
  },
  {
   "cell_type": "code",
   "execution_count": 11,
   "id": "7e3aa4ec",
   "metadata": {},
   "outputs": [],
   "source": [
    "aid2idx = {aid: i for i, aid in enumerate(w2vec.wv.index_to_key)}"
   ]
  },
  {
   "cell_type": "code",
   "execution_count": 12,
   "id": "b6d7fef7",
   "metadata": {},
   "outputs": [],
   "source": [
    "emb = {}\n",
    "for aid, idx in aid2idx.items():\n",
    "    emb[aid] = w2vec.wv.vectors[idx]"
   ]
  },
  {
   "cell_type": "code",
   "execution_count": 13,
   "id": "7c74083a",
   "metadata": {},
   "outputs": [],
   "source": [
    "pickle.dump(emb, open('./data_folds/fold_' + str(igfold) + '/word2vec.emb', 'wb'))"
   ]
  },
  {
   "cell_type": "code",
   "execution_count": null,
   "id": "0fbb6ea1",
   "metadata": {},
   "outputs": [],
   "source": []
  }
 ],
 "metadata": {
  "kernelspec": {
   "display_name": "Python 3 (ipykernel)",
   "language": "python",
   "name": "python3"
  },
  "language_info": {
   "codemirror_mode": {
    "name": "ipython",
    "version": 3
   },
   "file_extension": ".py",
   "mimetype": "text/x-python",
   "name": "python",
   "nbconvert_exporter": "python",
   "pygments_lexer": "ipython3",
   "version": "3.8.10"
  }
 },
 "nbformat": 4,
 "nbformat_minor": 5
}
